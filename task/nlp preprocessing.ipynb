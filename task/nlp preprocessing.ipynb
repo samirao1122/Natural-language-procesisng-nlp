{
 "cells": [
  {
   "cell_type": "markdown",
   "id": "326836c3-e290-4488-89a8-05b8679d0e15",
   "metadata": {},
   "source": [
    "## Lower case"
   ]
  },
  {
   "cell_type": "code",
   "execution_count": 56,
   "id": "33397661-c577-454f-95b6-a3d7c50bf60f",
   "metadata": {},
   "outputs": [],
   "source": [
    "import pandas as pd\n",
    "dataset=pd.read_csv(r\"C:\\Users\\wwrao\\Documents\\30 days of machine learning\\naive byes\\email_spam.csv\")"
   ]
  },
  {
   "cell_type": "code",
   "execution_count": 57,
   "id": "c18727f9-b522-4444-9530-0887e1d6bb6d",
   "metadata": {},
   "outputs": [
    {
     "data": {
      "text/html": [
       "<div>\n",
       "<style scoped>\n",
       "    .dataframe tbody tr th:only-of-type {\n",
       "        vertical-align: middle;\n",
       "    }\n",
       "\n",
       "    .dataframe tbody tr th {\n",
       "        vertical-align: top;\n",
       "    }\n",
       "\n",
       "    .dataframe thead th {\n",
       "        text-align: right;\n",
       "    }\n",
       "</style>\n",
       "<table border=\"1\" class=\"dataframe\">\n",
       "  <thead>\n",
       "    <tr style=\"text-align: right;\">\n",
       "      <th></th>\n",
       "      <th>title</th>\n",
       "      <th>text</th>\n",
       "      <th>type</th>\n",
       "    </tr>\n",
       "  </thead>\n",
       "  <tbody>\n",
       "    <tr>\n",
       "      <th>0</th>\n",
       "      <td>?? the secrets to SUCCESS</td>\n",
       "      <td>Hi James,\\n\\nHave you claim your complimentary...</td>\n",
       "      <td>spam</td>\n",
       "    </tr>\n",
       "    <tr>\n",
       "      <th>1</th>\n",
       "      <td>?? You Earned 500 GCLoot Points</td>\n",
       "      <td>\\nalt_text\\nCongratulations, you just earned\\n...</td>\n",
       "      <td>not spam</td>\n",
       "    </tr>\n",
       "    <tr>\n",
       "      <th>2</th>\n",
       "      <td>?? Your GitHub launch code</td>\n",
       "      <td>Here's your GitHub launch code, @Mortyj420!\\n ...</td>\n",
       "      <td>not spam</td>\n",
       "    </tr>\n",
       "    <tr>\n",
       "      <th>3</th>\n",
       "      <td>[The Virtual Reward Center] Re: ** Clarifications</td>\n",
       "      <td>Hello,\\n \\nThank you for contacting the Virtua...</td>\n",
       "      <td>not spam</td>\n",
       "    </tr>\n",
       "    <tr>\n",
       "      <th>4</th>\n",
       "      <td>10-1 MLB Expert Inside, Plus Everything You Ne...</td>\n",
       "      <td>Hey Prachanda Rawal,\\n\\nToday's newsletter is ...</td>\n",
       "      <td>spam</td>\n",
       "    </tr>\n",
       "  </tbody>\n",
       "</table>\n",
       "</div>"
      ],
      "text/plain": [
       "                                               title  \\\n",
       "0                          ?? the secrets to SUCCESS   \n",
       "1                    ?? You Earned 500 GCLoot Points   \n",
       "2                         ?? Your GitHub launch code   \n",
       "3  [The Virtual Reward Center] Re: ** Clarifications   \n",
       "4  10-1 MLB Expert Inside, Plus Everything You Ne...   \n",
       "\n",
       "                                                text      type  \n",
       "0  Hi James,\\n\\nHave you claim your complimentary...      spam  \n",
       "1  \\nalt_text\\nCongratulations, you just earned\\n...  not spam  \n",
       "2  Here's your GitHub launch code, @Mortyj420!\\n ...  not spam  \n",
       "3  Hello,\\n \\nThank you for contacting the Virtua...  not spam  \n",
       "4  Hey Prachanda Rawal,\\n\\nToday's newsletter is ...      spam  "
      ]
     },
     "execution_count": 57,
     "metadata": {},
     "output_type": "execute_result"
    }
   ],
   "source": [
    "dataset.head()"
   ]
  },
  {
   "cell_type": "code",
   "execution_count": 58,
   "id": "964ae2bb-c726-4a3d-bcf6-c55229cbda2b",
   "metadata": {},
   "outputs": [
    {
     "data": {
      "text/plain": [
       "'Hello,\\n \\nThank you for contacting the Virtual Reward Center. We here at the Virtual Reward Center do not dictate what Rewards get sent out to recipients. Please contact your program sponsor, (the company from which you originally received your Reward) at helpdesk@cspace.com for this inquiry.\\n \\nWe apologize for any inconvenience.\\n \\n \\nThank You,\\n\\nThe Virtual Reward Center\\nCustomer Support Team Lead'"
      ]
     },
     "execution_count": 58,
     "metadata": {},
     "output_type": "execute_result"
    }
   ],
   "source": [
    "dataset[\"text\"][3]"
   ]
  },
  {
   "cell_type": "code",
   "execution_count": 59,
   "id": "ace518af-e9e6-4730-a731-be9a867346c9",
   "metadata": {},
   "outputs": [
    {
     "data": {
      "text/plain": [
       "'hello,\\n \\nthank you for contacting the virtual reward center. we here at the virtual reward center do not dictate what rewards get sent out to recipients. please contact your program sponsor, (the company from which you originally received your reward) at helpdesk@cspace.com for this inquiry.\\n \\nwe apologize for any inconvenience.\\n \\n \\nthank you,\\n\\nthe virtual reward center\\ncustomer support team lead'"
      ]
     },
     "execution_count": 59,
     "metadata": {},
     "output_type": "execute_result"
    }
   ],
   "source": [
    "dataset[\"text\"][3].lower()"
   ]
  },
  {
   "cell_type": "code",
   "execution_count": 60,
   "id": "5d29b2e3-798c-47f3-86df-d26d6d113ac9",
   "metadata": {},
   "outputs": [
    {
     "data": {
      "text/plain": [
       "0     hi james,\\n\\nhave you claim your complimentary...\n",
       "1     \\nalt_text\\ncongratulations, you just earned\\n...\n",
       "2     here's your github launch code, @mortyj420!\\n ...\n",
       "3     hello,\\n \\nthank you for contacting the virtua...\n",
       "4     hey prachanda rawal,\\n\\ntoday's newsletter is ...\n",
       "                            ...                        \n",
       "79    dear maryam, \\n\\n \\n\\ni would like to thank yo...\n",
       "80    dear customer,\\n\\nwelcome to kilimall, thanks ...\n",
       "81    dear vladis163rus,\\nhere is the steam guard co...\n",
       "82    view in browser | log in\\n \\n \\n\\nskrill logo\\...\n",
       "83    you've received a gift!\\nsign in to your bard ...\n",
       "Name: text, Length: 84, dtype: object"
      ]
     },
     "execution_count": 60,
     "metadata": {},
     "output_type": "execute_result"
    }
   ],
   "source": [
    "dataset[\"text\"].str.lower()"
   ]
  },
  {
   "cell_type": "markdown",
   "id": "e694fa59-2b6b-4eb3-85bd-7c3345870b7b",
   "metadata": {},
   "source": [
    "## Remove Html Tags"
   ]
  },
  {
   "cell_type": "code",
   "execution_count": 61,
   "id": "a6862c86-a800-4155-9c1d-46d6de5303d2",
   "metadata": {},
   "outputs": [],
   "source": [
    "import re"
   ]
  },
  {
   "cell_type": "code",
   "execution_count": 62,
   "id": "417b8ab0-6af4-468a-9113-22dc06da0457",
   "metadata": {},
   "outputs": [],
   "source": [
    "paragraph='''\n",
    "<p><strong>Welcome to Web Development!</strong> HTML (HyperText Markup Language) is the standard language used to create web pages. It uses various <em>tags</em> to structure content. For example, you can use the <a href=\"https://www.w3schools.com\">anchor tag</a> to create links, the <img src=\"image.jpg\" alt=\"Example Image\"> tag to display images, and the <ul><li>unordered list</li></ul> or <ol><li>ordered list</li></ol> tags to list items. Understanding <span style=\"color:blue;\">HTML</span> is essential for web development!</p>\n",
    "\n",
    "\n",
    "'''"
   ]
  },
  {
   "cell_type": "code",
   "execution_count": 63,
   "id": "6206a0c7-6e90-4025-a260-b0852563e186",
   "metadata": {},
   "outputs": [],
   "source": [
    "html_text=r\"<.*?>\""
   ]
  },
  {
   "cell_type": "code",
   "execution_count": 64,
   "id": "a8249ae2-0a74-435f-ad5f-933e1aaa5927",
   "metadata": {},
   "outputs": [
    {
     "name": "stdout",
     "output_type": "stream",
     "text": [
      "\n",
      ">>>>welcome to web development!>> html (hypertext markup language) is the standard language used to create web pages. it uses various >>tags>> to structure content. for example, you can use the >>anchor tag>> to create links, the >> tag to display images, and the >>>>unordered list>>>> or >>>>ordered list>>>> tags to list items. understanding >>html>> is essential for web development!>>\n",
      "\n",
      "\n",
      "\n"
     ]
    }
   ],
   "source": [
    "\n",
    "plain_text = re.sub(r\"<.*?>\", \">>\", paragraph)  # \">>\" mean subsittite with this substitute with sapce and lot of other\n",
    "\n",
    "print((plain_text).lower())"
   ]
  },
  {
   "cell_type": "code",
   "execution_count": 65,
   "id": "d5fe99a1-77d6-4284-baa3-bd879e540681",
   "metadata": {},
   "outputs": [],
   "source": [
    "dataset[\"text\"] = dataset[\"text\"].apply(lambda x: re.sub(r\"<.*?>\", \"\", x))"
   ]
  },
  {
   "cell_type": "code",
   "execution_count": 66,
   "id": "522450dd-a0d8-4246-8356-3ac6c45d46e5",
   "metadata": {},
   "outputs": [
    {
     "data": {
      "text/plain": [
       "0     Hi James,\\n\\nHave you claim your complimentary...\n",
       "1     \\nalt_text\\nCongratulations, you just earned\\n...\n",
       "2     Here's your GitHub launch code, @Mortyj420!\\n ...\n",
       "3     Hello,\\n \\nThank you for contacting the Virtua...\n",
       "4     Hey Prachanda Rawal,\\n\\nToday's newsletter is ...\n",
       "                            ...                        \n",
       "79    Dear Maryam, \\n\\n \\n\\nI would like to thank yo...\n",
       "80    Dear Customer,\\n\\nWelcome to Kilimall, Thanks ...\n",
       "81    Dear vladis163rus,\\nHere is the Steam Guard co...\n",
       "82    View In Browser | Log in\\n \\n \\n\\nSkrill logo\\...\n",
       "83    You've received a gift!\\nSign in to your Bard ...\n",
       "Name: text, Length: 84, dtype: object"
      ]
     },
     "execution_count": 66,
     "metadata": {},
     "output_type": "execute_result"
    }
   ],
   "source": [
    "dataset[\"text\"]"
   ]
  },
  {
   "cell_type": "code",
   "execution_count": 67,
   "id": "3370c4d5-f8cb-4056-912c-e7778e3af39a",
   "metadata": {},
   "outputs": [],
   "source": [
    "def remove_html_tegs(text):\n",
    "    plain_text = re.sub(r\"<.*?>\", \"\", text)  # \">>\" mean subsittite with this substitute with sapce and lot of other\n",
    "    return plain_text\n"
   ]
  },
  {
   "cell_type": "code",
   "execution_count": 68,
   "id": "08c0ea7e-b5c4-4bea-9d5f-b9ad7741baee",
   "metadata": {},
   "outputs": [
    {
     "data": {
      "text/plain": [
       "0     Hi James,\\n\\nHave you claim your complimentary...\n",
       "1     \\nalt_text\\nCongratulations, you just earned\\n...\n",
       "2     Here's your GitHub launch code, @Mortyj420!\\n ...\n",
       "3     Hello,\\n \\nThank you for contacting the Virtua...\n",
       "4     Hey Prachanda Rawal,\\n\\nToday's newsletter is ...\n",
       "                            ...                        \n",
       "79    Dear Maryam, \\n\\n \\n\\nI would like to thank yo...\n",
       "80    Dear Customer,\\n\\nWelcome to Kilimall, Thanks ...\n",
       "81    Dear vladis163rus,\\nHere is the Steam Guard co...\n",
       "82    View In Browser | Log in\\n \\n \\n\\nSkrill logo\\...\n",
       "83    You've received a gift!\\nSign in to your Bard ...\n",
       "Name: text, Length: 84, dtype: object"
      ]
     },
     "execution_count": 68,
     "metadata": {},
     "output_type": "execute_result"
    }
   ],
   "source": [
    "dataset[\"text\"].apply(remove_html_tegs)"
   ]
  },
  {
   "cell_type": "markdown",
   "id": "e070f809-f32f-4887-9f4b-4637cc976d29",
   "metadata": {},
   "source": [
    "## Remove url"
   ]
  },
  {
   "cell_type": "code",
   "execution_count": 69,
   "id": "74a5fcc7-527c-4214-98e1-e65fe7c3ff0b",
   "metadata": {},
   "outputs": [
    {
     "data": {
      "text/plain": [
       "'Model Casting Call\\nThank you for taking the time to register for the Anambra Fashion Expo 2023 Model Call. We are thrilled to have received your information and are excited to review your submission.\\n\\nOur team will be carefully reviewing all of the applications we receive over the\\nnext few weeks\\n\\nHave you followed us on our social media handles?\\n\\nRemember, one of the prerequisites for qualification is to follow all our social\\nmedia accounts and share all our content using the hashtag #AFE2023\\n\\nYou can follow us on Facebook, Instagram, and Twitter.\\n\\nFacebook: https://facebook.com/AnambraFashionExpo2023\\nInstagram: https://instagram.com/anambrafashionexpo\\nTwitter: https://twitter.com/anambrafashion\\n\\nIn the meantime, we encourage you to stay connected and keep an eye out for\\nupdates about the event. We will be posting!\\n\\nNote: Create your personalized profile picture (DP) for the Model Casting of the Anambra Fashion Expo 2023\\n\\nYou can create your DP using the following link: https://getdp.co/afe2023\\n\\nBest Regards,\\n\\nAnambra Fashion Expo 2023 Team '"
      ]
     },
     "execution_count": 69,
     "metadata": {},
     "output_type": "execute_result"
    }
   ],
   "source": [
    "dataset[\"text\"][5]"
   ]
  },
  {
   "cell_type": "code",
   "execution_count": 70,
   "id": "c80e69f1-8e3d-4e55-ad8e-b9ec4f34a38a",
   "metadata": {},
   "outputs": [],
   "source": [
    "def remove_url(text):\n",
    "    plain_text=re.sub(r'http[s]?://\\S+', '', text)\n",
    "    return plain_text"
   ]
  },
  {
   "cell_type": "code",
   "execution_count": 71,
   "id": "cc7d7d20-ade3-4109-9447-a9c5d8116b84",
   "metadata": {},
   "outputs": [
    {
     "data": {
      "text/plain": [
       "'Model Casting Call\\nThank you for taking the time to register for the Anambra Fashion Expo 2023 Model Call. We are thrilled to have received your information and are excited to review your submission.\\n\\nOur team will be carefully reviewing all of the applications we receive over the\\nnext few weeks\\n\\nHave you followed us on our social media handles?\\n\\nRemember, one of the prerequisites for qualification is to follow all our social\\nmedia accounts and share all our content using the hashtag #AFE2023\\n\\nYou can follow us on Facebook, Instagram, and Twitter.\\n\\nFacebook: \\nInstagram: \\nTwitter: \\n\\nIn the meantime, we encourage you to stay connected and keep an eye out for\\nupdates about the event. We will be posting!\\n\\nNote: Create your personalized profile picture (DP) for the Model Casting of the Anambra Fashion Expo 2023\\n\\nYou can create your DP using the following link: \\n\\nBest Regards,\\n\\nAnambra Fashion Expo 2023 Team '"
      ]
     },
     "execution_count": 71,
     "metadata": {},
     "output_type": "execute_result"
    }
   ],
   "source": [
    "remove_url(dataset[\"text\"][5])"
   ]
  },
  {
   "cell_type": "code",
   "execution_count": 72,
   "id": "9515ae52-ca93-45da-b496-2213b0e527a0",
   "metadata": {},
   "outputs": [
    {
     "data": {
      "text/plain": [
       "0     Hi James,\\n\\nHave you claim your complimentary...\n",
       "1     \\nalt_text\\nCongratulations, you just earned\\n...\n",
       "2     Here's your GitHub launch code, @Mortyj420!\\n ...\n",
       "3     Hello,\\n \\nThank you for contacting the Virtua...\n",
       "4     Hey Prachanda Rawal,\\n\\nToday's newsletter is ...\n",
       "                            ...                        \n",
       "79    Dear Maryam, \\n\\n \\n\\nI would like to thank yo...\n",
       "80    Dear Customer,\\n\\nWelcome to Kilimall, Thanks ...\n",
       "81    Dear vladis163rus,\\nHere is the Steam Guard co...\n",
       "82    View In Browser | Log in\\n \\n \\n\\nSkrill logo\\...\n",
       "83    You've received a gift!\\nSign in to your Bard ...\n",
       "Name: text, Length: 84, dtype: object"
      ]
     },
     "execution_count": 72,
     "metadata": {},
     "output_type": "execute_result"
    }
   ],
   "source": [
    "dataset[\"text\"].apply(remove_url)"
   ]
  },
  {
   "cell_type": "code",
   "execution_count": 73,
   "id": "9ff394ae-e196-4bb9-870d-d2d8ecb38740",
   "metadata": {},
   "outputs": [],
   "source": [
    "dataset[\"text\"] = dataset[\"text\"].apply(lambda x: re.sub(r'http[s]?://\\S+', \"\", x))"
   ]
  },
  {
   "cell_type": "code",
   "execution_count": 74,
   "id": "17ab704f-4a08-436c-a3a0-3f4c685dfc93",
   "metadata": {},
   "outputs": [
    {
     "data": {
      "text/plain": [
       "'Model Casting Call\\nThank you for taking the time to register for the Anambra Fashion Expo 2023 Model Call. We are thrilled to have received your information and are excited to review your submission.\\n\\nOur team will be carefully reviewing all of the applications we receive over the\\nnext few weeks\\n\\nHave you followed us on our social media handles?\\n\\nRemember, one of the prerequisites for qualification is to follow all our social\\nmedia accounts and share all our content using the hashtag #AFE2023\\n\\nYou can follow us on Facebook, Instagram, and Twitter.\\n\\nFacebook: \\nInstagram: \\nTwitter: \\n\\nIn the meantime, we encourage you to stay connected and keep an eye out for\\nupdates about the event. We will be posting!\\n\\nNote: Create your personalized profile picture (DP) for the Model Casting of the Anambra Fashion Expo 2023\\n\\nYou can create your DP using the following link: \\n\\nBest Regards,\\n\\nAnambra Fashion Expo 2023 Team '"
      ]
     },
     "execution_count": 74,
     "metadata": {},
     "output_type": "execute_result"
    }
   ],
   "source": [
    "dataset[\"text\"][5]"
   ]
  },
  {
   "cell_type": "code",
   "execution_count": null,
   "id": "4e52f859-d03d-4ecd-b164-f03c449eadcc",
   "metadata": {},
   "outputs": [],
   "source": []
  },
  {
   "cell_type": "code",
   "execution_count": 75,
   "id": "6b9b1bff-682c-43c6-9dd5-0ef49f4a90de",
   "metadata": {},
   "outputs": [],
   "source": [
    "\n",
    "def remove_puctuation(text):\n",
    "    \n",
    "    clean_text = re.sub(r'[^\\w\\s]',\"\", text)\n",
    "    return clean_text"
   ]
  },
  {
   "cell_type": "code",
   "execution_count": 76,
   "id": "350f3660-2327-4aef-9507-bd269bd5d929",
   "metadata": {},
   "outputs": [
    {
     "data": {
      "text/plain": [
       "0     Hi James\\n\\nHave you claim your complimentary ...\n",
       "1     \\nalt_text\\nCongratulations you just earned\\n5...\n",
       "2     Heres your GitHub launch code Mortyj420\\n \\nan...\n",
       "3     Hello\\n \\nThank you for contacting the Virtual...\n",
       "4     Hey Prachanda Rawal\\n\\nTodays newsletter is Ja...\n",
       "                            ...                        \n",
       "79    Dear Maryam \\n\\n \\n\\nI would like to thank you...\n",
       "80    Dear Customer\\n\\nWelcome to Kilimall Thanks so...\n",
       "81    Dear vladis163rus\\nHere is the Steam Guard cod...\n",
       "82    View In Browser  Log in\\n \\n \\n\\nSkrill logo\\n...\n",
       "83    Youve received a gift\\nSign in to your Bard Ex...\n",
       "Name: text, Length: 84, dtype: object"
      ]
     },
     "execution_count": 76,
     "metadata": {},
     "output_type": "execute_result"
    }
   ],
   "source": [
    "dataset[\"text\"].apply(remove_puctuation)"
   ]
  },
  {
   "cell_type": "code",
   "execution_count": 77,
   "id": "dbfea090-f5f6-4187-b2c0-88bcb993c3e4",
   "metadata": {},
   "outputs": [
    {
     "data": {
      "text/plain": [
       "'\\nalt_text\\nCongratulations, you just earned\\n500\\n\\n\\nYou completed the following offer:\\n\\nView Points History\\nTo stop recieving notifications when you earn points, please visit your profile and click \"Preferences\" to change your setting.\\n\\nRoom 1203, 12th Floor, Tower 3\\n\\nChina Hong Kong City, 33 Canton Road\\n\\nTsim Sha Tsui, Kowloon, Hong Kong\\n\\nUnsubscribe'"
      ]
     },
     "execution_count": 77,
     "metadata": {},
     "output_type": "execute_result"
    }
   ],
   "source": [
    "dataset[\"text\"][1]"
   ]
  },
  {
   "cell_type": "code",
   "execution_count": 78,
   "id": "f8a56792-0597-4c30-b069-a1f77a33e21f",
   "metadata": {},
   "outputs": [
    {
     "data": {
      "text/plain": [
       "'\\nalt_text\\nCongratulations you just earned\\n500\\n\\n\\nYou completed the following offer\\n\\nView Points History\\nTo stop recieving notifications when you earn points please visit your profile and click Preferences to change your setting\\n\\nRoom 1203 12th Floor Tower 3\\n\\nChina Hong Kong City 33 Canton Road\\n\\nTsim Sha Tsui Kowloon Hong Kong\\n\\nUnsubscribe'"
      ]
     },
     "execution_count": 78,
     "metadata": {},
     "output_type": "execute_result"
    }
   ],
   "source": [
    "remove_puctuation(dataset[\"text\"][1])"
   ]
  },
  {
   "cell_type": "markdown",
   "id": "87e73421-5196-4232-be12-58f0728c2008",
   "metadata": {},
   "source": [
    "**Remove punctuation for speed up the code using st.make_trans**"
   ]
  },
  {
   "cell_type": "code",
   "execution_count": 79,
   "id": "4d9e37e6-1acc-4690-8200-b15d8866701b",
   "metadata": {},
   "outputs": [
    {
     "data": {
      "text/plain": [
       "'!\"#$%&\\'()*+,-./:;<=>?@[\\\\]^_`{|}~'"
      ]
     },
     "execution_count": 79,
     "metadata": {},
     "output_type": "execute_result"
    }
   ],
   "source": [
    "import string \n",
    "string.punctuation"
   ]
  },
  {
   "cell_type": "code",
   "execution_count": 80,
   "id": "4e51359b-f1c1-4d55-8104-7458f2743e55",
   "metadata": {},
   "outputs": [],
   "source": [
    "def remove_punc(text):\n",
    "    clear_text=text.translate(str.maketrans('', '', string.punctuation))\n",
    "    return clear_text"
   ]
  },
  {
   "cell_type": "code",
   "execution_count": 81,
   "id": "522453cf-f58c-46e0-8a62-21381354fabf",
   "metadata": {},
   "outputs": [
    {
     "data": {
      "text/plain": [
       "0     hi james\\n\\nhave you claim your complimentary ...\n",
       "1     \\nalttext\\ncongratulations you just earned\\n50...\n",
       "2     heres your github launch code mortyj420\\n \\nan...\n",
       "3     hello\\n \\nthank you for contacting the virtual...\n",
       "4     hey prachanda rawal\\n\\ntodays newsletter is ja...\n",
       "                            ...                        \n",
       "79    dear maryam \\n\\n \\n\\ni would like to thank you...\n",
       "80    dear customer\\n\\nwelcome to kilimall thanks so...\n",
       "81    dear vladis163rus\\nhere is the steam guard cod...\n",
       "82    view in browser  log in\\n \\n \\n\\nskrill logo\\n...\n",
       "83    youve received a gift\\nsign in to your bard ex...\n",
       "Name: text, Length: 84, dtype: object"
      ]
     },
     "execution_count": 81,
     "metadata": {},
     "output_type": "execute_result"
    }
   ],
   "source": [
    "dataset[\"text\"].apply(remove_punc).str.lower()"
   ]
  },
  {
   "cell_type": "markdown",
   "id": "daf38ed4-833d-4169-a3c6-5ebba5b4d1ba",
   "metadata": {},
   "source": [
    "## Spelling correction"
   ]
  },
  {
   "cell_type": "markdown",
   "id": "8ace6320-6b02-4377-965c-fa00da8ec6e3",
   "metadata": {},
   "source": [
    "<h4>text blob  take LArge and large  time</h4>"
   ]
  },
  {
   "cell_type": "code",
   "execution_count": 27,
   "id": "4ec2f5ca-cad6-4658-b4ee-e74e140ba8c7",
   "metadata": {},
   "outputs": [
    {
     "data": {
      "text/html": [
       "<div>\n",
       "<style scoped>\n",
       "    .dataframe tbody tr th:only-of-type {\n",
       "        vertical-align: middle;\n",
       "    }\n",
       "\n",
       "    .dataframe tbody tr th {\n",
       "        vertical-align: top;\n",
       "    }\n",
       "\n",
       "    .dataframe thead th {\n",
       "        text-align: right;\n",
       "    }\n",
       "</style>\n",
       "<table border=\"1\" class=\"dataframe\">\n",
       "  <thead>\n",
       "    <tr style=\"text-align: right;\">\n",
       "      <th></th>\n",
       "      <th>text</th>\n",
       "    </tr>\n",
       "  </thead>\n",
       "  <tbody>\n",
       "    <tr>\n",
       "      <th>0</th>\n",
       "      <td>I am goin to scholl</td>\n",
       "    </tr>\n",
       "    <tr>\n",
       "      <th>1</th>\n",
       "      <td>This is a beautifull day</td>\n",
       "    </tr>\n",
       "    <tr>\n",
       "      <th>2</th>\n",
       "      <td>Ths sentnce has msspelled words</td>\n",
       "    </tr>\n",
       "  </tbody>\n",
       "</table>\n",
       "</div>"
      ],
      "text/plain": [
       "                              text\n",
       "0              I am goin to scholl\n",
       "1         This is a beautifull day\n",
       "2  Ths sentnce has msspelled words"
      ]
     },
     "execution_count": 27,
     "metadata": {},
     "output_type": "execute_result"
    }
   ],
   "source": [
    "from textblob import TextBlob   #using \n",
    "import pandas as pd\n",
    "\n",
    "# Sample dataset\n",
    "data = {'text': [\"I am goin to scholl\", \"This is a beautifull day\", \"Ths sentnce has msspelled words\"]}\n",
    "df1= pd.DataFrame(data)\n",
    "df1"
   ]
  },
  {
   "cell_type": "code",
   "execution_count": 28,
   "id": "124d737c-0d4c-479a-bfb0-c88e2471df28",
   "metadata": {},
   "outputs": [],
   "source": [
    " #Function to correct spelling\n",
    "def correct_spelling(text):\n",
    "        \n",
    "    \n",
    "    clear_text=str(TextBlob(text).correct())\n",
    "    return clear_text\n",
    "    \n"
   ]
  },
  {
   "cell_type": "code",
   "execution_count": 49,
   "id": "3756adaa-0590-4acb-a56b-8c89e259afb3",
   "metadata": {},
   "outputs": [
    {
     "data": {
      "text/html": [
       "<div>\n",
       "<style scoped>\n",
       "    .dataframe tbody tr th:only-of-type {\n",
       "        vertical-align: middle;\n",
       "    }\n",
       "\n",
       "    .dataframe tbody tr th {\n",
       "        vertical-align: top;\n",
       "    }\n",
       "\n",
       "    .dataframe thead th {\n",
       "        text-align: right;\n",
       "    }\n",
       "</style>\n",
       "<table border=\"1\" class=\"dataframe\">\n",
       "  <thead>\n",
       "    <tr style=\"text-align: right;\">\n",
       "      <th></th>\n",
       "      <th>text</th>\n",
       "    </tr>\n",
       "  </thead>\n",
       "  <tbody>\n",
       "    <tr>\n",
       "      <th>0</th>\n",
       "      <td>I am going to school</td>\n",
       "    </tr>\n",
       "    <tr>\n",
       "      <th>1</th>\n",
       "      <td>His is a beautiful day</td>\n",
       "    </tr>\n",
       "    <tr>\n",
       "      <th>2</th>\n",
       "      <td>The sentence has misspelled words</td>\n",
       "    </tr>\n",
       "  </tbody>\n",
       "</table>\n",
       "</div>"
      ],
      "text/plain": [
       "                                text\n",
       "0               I am going to school\n",
       "1             His is a beautiful day\n",
       "2  The sentence has misspelled words"
      ]
     },
     "execution_count": 49,
     "metadata": {},
     "output_type": "execute_result"
    }
   ],
   "source": [
    "# Apply function to DataFrame\n",
    "df1[\"text\"]=df1[\"text\"].apply(correct_spelling)\n",
    "df1"
   ]
  },
  {
   "cell_type": "code",
   "execution_count": 30,
   "id": "17e61e59-e2e2-493d-a8b3-7ac09ebd7d22",
   "metadata": {},
   "outputs": [],
   "source": [
    "import time \n",
    "start=time.time()\n",
    "dataset[\"text\"].apply(correct_spelling)\n",
    "end=time.time()"
   ]
  },
  {
   "cell_type": "code",
   "execution_count": 32,
   "id": "3c02c520-d97c-4964-ad8b-d2e6774e8bf0",
   "metadata": {},
   "outputs": [
    {
     "data": {
      "text/plain": [
       "679.4250316619873"
      ]
     },
     "execution_count": 32,
     "metadata": {},
     "output_type": "execute_result"
    }
   ],
   "source": [
    "end-start #sec"
   ]
  },
  {
   "cell_type": "code",
   "execution_count": 33,
   "id": "87b2b691-c543-4110-a40e-5e911bc3ce47",
   "metadata": {},
   "outputs": [
    {
     "data": {
      "text/plain": [
       "11.316666666666666"
      ]
     },
     "execution_count": 33,
     "metadata": {},
     "output_type": "execute_result"
    }
   ],
   "source": [
    "679/60      # min"
   ]
  },
  {
   "cell_type": "code",
   "execution_count": 34,
   "id": "f0a0d4a4-eef5-4278-bc6f-4eaac261bc31",
   "metadata": {},
   "outputs": [
    {
     "data": {
      "text/plain": [
       "(84, 3)"
      ]
     },
     "execution_count": 34,
     "metadata": {},
     "output_type": "execute_result"
    }
   ],
   "source": [
    "dataset.shape"
   ]
  },
  {
   "cell_type": "markdown",
   "id": "03e5d748-fef1-4ff0-8121-039330b49635",
   "metadata": {},
   "source": [
    "## Removing stop word using nlp"
   ]
  },
  {
   "cell_type": "code",
   "execution_count": 42,
   "id": "734e1555-f161-45a2-abe0-e5a6c0b1b0c9",
   "metadata": {},
   "outputs": [
    {
     "name": "stderr",
     "output_type": "stream",
     "text": [
      "[nltk_data] Downloading package stopwords to\n",
      "[nltk_data]     C:\\Users\\wwrao\\AppData\\Roaming\\nltk_data...\n",
      "[nltk_data]   Unzipping corpora\\stopwords.zip.\n"
     ]
    },
    {
     "data": {
      "text/plain": [
       "True"
      ]
     },
     "execution_count": 42,
     "metadata": {},
     "output_type": "execute_result"
    }
   ],
   "source": [
    "import nltk\n",
    "from nltk.corpus import stopwords\n",
    "nltk.download('stopwords')"
   ]
  },
  {
   "cell_type": "code",
   "execution_count": 43,
   "id": "bb0ef736-2aff-4238-989f-faaaae743eb4",
   "metadata": {
    "scrolled": true
   },
   "outputs": [
    {
     "data": {
      "text/plain": [
       "['i',\n",
       " 'me',\n",
       " 'my',\n",
       " 'myself',\n",
       " 'we',\n",
       " 'our',\n",
       " 'ours',\n",
       " 'ourselves',\n",
       " 'you',\n",
       " \"you're\",\n",
       " \"you've\",\n",
       " \"you'll\",\n",
       " \"you'd\",\n",
       " 'your',\n",
       " 'yours',\n",
       " 'yourself',\n",
       " 'yourselves',\n",
       " 'he',\n",
       " 'him',\n",
       " 'his',\n",
       " 'himself',\n",
       " 'she',\n",
       " \"she's\",\n",
       " 'her',\n",
       " 'hers',\n",
       " 'herself',\n",
       " 'it',\n",
       " \"it's\",\n",
       " 'its',\n",
       " 'itself',\n",
       " 'they',\n",
       " 'them',\n",
       " 'their',\n",
       " 'theirs',\n",
       " 'themselves',\n",
       " 'what',\n",
       " 'which',\n",
       " 'who',\n",
       " 'whom',\n",
       " 'this',\n",
       " 'that',\n",
       " \"that'll\",\n",
       " 'these',\n",
       " 'those',\n",
       " 'am',\n",
       " 'is',\n",
       " 'are',\n",
       " 'was',\n",
       " 'were',\n",
       " 'be',\n",
       " 'been',\n",
       " 'being',\n",
       " 'have',\n",
       " 'has',\n",
       " 'had',\n",
       " 'having',\n",
       " 'do',\n",
       " 'does',\n",
       " 'did',\n",
       " 'doing',\n",
       " 'a',\n",
       " 'an',\n",
       " 'the',\n",
       " 'and',\n",
       " 'but',\n",
       " 'if',\n",
       " 'or',\n",
       " 'because',\n",
       " 'as',\n",
       " 'until',\n",
       " 'while',\n",
       " 'of',\n",
       " 'at',\n",
       " 'by',\n",
       " 'for',\n",
       " 'with',\n",
       " 'about',\n",
       " 'against',\n",
       " 'between',\n",
       " 'into',\n",
       " 'through',\n",
       " 'during',\n",
       " 'before',\n",
       " 'after',\n",
       " 'above',\n",
       " 'below',\n",
       " 'to',\n",
       " 'from',\n",
       " 'up',\n",
       " 'down',\n",
       " 'in',\n",
       " 'out',\n",
       " 'on',\n",
       " 'off',\n",
       " 'over',\n",
       " 'under',\n",
       " 'again',\n",
       " 'further',\n",
       " 'then',\n",
       " 'once',\n",
       " 'here',\n",
       " 'there',\n",
       " 'when',\n",
       " 'where',\n",
       " 'why',\n",
       " 'how',\n",
       " 'all',\n",
       " 'any',\n",
       " 'both',\n",
       " 'each',\n",
       " 'few',\n",
       " 'more',\n",
       " 'most',\n",
       " 'other',\n",
       " 'some',\n",
       " 'such',\n",
       " 'no',\n",
       " 'nor',\n",
       " 'not',\n",
       " 'only',\n",
       " 'own',\n",
       " 'same',\n",
       " 'so',\n",
       " 'than',\n",
       " 'too',\n",
       " 'very',\n",
       " 's',\n",
       " 't',\n",
       " 'can',\n",
       " 'will',\n",
       " 'just',\n",
       " 'don',\n",
       " \"don't\",\n",
       " 'should',\n",
       " \"should've\",\n",
       " 'now',\n",
       " 'd',\n",
       " 'll',\n",
       " 'm',\n",
       " 'o',\n",
       " 're',\n",
       " 've',\n",
       " 'y',\n",
       " 'ain',\n",
       " 'aren',\n",
       " \"aren't\",\n",
       " 'couldn',\n",
       " \"couldn't\",\n",
       " 'didn',\n",
       " \"didn't\",\n",
       " 'doesn',\n",
       " \"doesn't\",\n",
       " 'hadn',\n",
       " \"hadn't\",\n",
       " 'hasn',\n",
       " \"hasn't\",\n",
       " 'haven',\n",
       " \"haven't\",\n",
       " 'isn',\n",
       " \"isn't\",\n",
       " 'ma',\n",
       " 'mightn',\n",
       " \"mightn't\",\n",
       " 'mustn',\n",
       " \"mustn't\",\n",
       " 'needn',\n",
       " \"needn't\",\n",
       " 'shan',\n",
       " \"shan't\",\n",
       " 'shouldn',\n",
       " \"shouldn't\",\n",
       " 'wasn',\n",
       " \"wasn't\",\n",
       " 'weren',\n",
       " \"weren't\",\n",
       " 'won',\n",
       " \"won't\",\n",
       " 'wouldn',\n",
       " \"wouldn't\"]"
      ]
     },
     "execution_count": 43,
     "metadata": {},
     "output_type": "execute_result"
    }
   ],
   "source": [
    "stopwords.words(\"english\")"
   ]
  },
  {
   "cell_type": "code",
   "execution_count": 50,
   "id": "772df15f-d954-403d-a716-0ce8b6e1d62c",
   "metadata": {},
   "outputs": [],
   "source": [
    "stop_words = set(stopwords.words('english'))\n",
    "\n",
    "# Function to remove stop words\n",
    "def remove_stopwords(text):\n",
    "    words = text.split()\n",
    "    x = [word for word in words if word.lower() not in stop_words]\n",
    "    return \" \".join(x)"
   ]
  },
  {
   "cell_type": "code",
   "execution_count": 51,
   "id": "3652c837-064b-4c91-8c84-bc1a74547556",
   "metadata": {},
   "outputs": [
    {
     "data": {
      "text/html": [
       "<div>\n",
       "<style scoped>\n",
       "    .dataframe tbody tr th:only-of-type {\n",
       "        vertical-align: middle;\n",
       "    }\n",
       "\n",
       "    .dataframe tbody tr th {\n",
       "        vertical-align: top;\n",
       "    }\n",
       "\n",
       "    .dataframe thead th {\n",
       "        text-align: right;\n",
       "    }\n",
       "</style>\n",
       "<table border=\"1\" class=\"dataframe\">\n",
       "  <thead>\n",
       "    <tr style=\"text-align: right;\">\n",
       "      <th></th>\n",
       "      <th>text</th>\n",
       "    </tr>\n",
       "  </thead>\n",
       "  <tbody>\n",
       "    <tr>\n",
       "      <th>0</th>\n",
       "      <td>I am going to school</td>\n",
       "    </tr>\n",
       "    <tr>\n",
       "      <th>1</th>\n",
       "      <td>His is a beautiful day</td>\n",
       "    </tr>\n",
       "    <tr>\n",
       "      <th>2</th>\n",
       "      <td>The sentence has misspelled words</td>\n",
       "    </tr>\n",
       "  </tbody>\n",
       "</table>\n",
       "</div>"
      ],
      "text/plain": [
       "                                text\n",
       "0               I am going to school\n",
       "1             His is a beautiful day\n",
       "2  The sentence has misspelled words"
      ]
     },
     "execution_count": 51,
     "metadata": {},
     "output_type": "execute_result"
    }
   ],
   "source": [
    "df1"
   ]
  },
  {
   "cell_type": "code",
   "execution_count": 52,
   "id": "d29ad4be-0011-4236-9b42-0fa238730c04",
   "metadata": {},
   "outputs": [
    {
     "data": {
      "text/plain": [
       "0                 going school\n",
       "1                beautiful day\n",
       "2    sentence misspelled words\n",
       "Name: text, dtype: object"
      ]
     },
     "execution_count": 52,
     "metadata": {},
     "output_type": "execute_result"
    }
   ],
   "source": [
    "df1[\"text\"].apply(remove_stopwords)"
   ]
  },
  {
   "cell_type": "markdown",
   "id": "3d4345f3-489c-4351-9173-aa2bd49d7cef",
   "metadata": {},
   "source": [
    "## Removing stop word using spacy"
   ]
  },
  {
   "cell_type": "code",
   "execution_count": 87,
   "id": "c1f0327e-87c5-4f85-8514-128d46ccdcc6",
   "metadata": {},
   "outputs": [],
   "source": [
    "import spacy\n",
    "import pandas as pd\n",
    "\n",
    "# Load spaCy's English model\n",
    "nlp = spacy.load(\"en_core_web_sm\")\n",
    "\n",
    "\n",
    "\n",
    "# Function to remove stopwords using spaCy\n",
    "def remove_stopwords(text):\n",
    "    doc = nlp(text)\n",
    "    return \" \".join([token.text for token in doc if not token.is_stop])\n",
    "\n",
    "\n",
    "\n"
   ]
  },
  {
   "cell_type": "code",
   "execution_count": 84,
   "id": "34609f2a-9579-4ef5-a0de-24c4ede6e322",
   "metadata": {},
   "outputs": [],
   "source": [
    "start=time.time()\n",
    "dataset[\"text\"].apply(remove_stopwords)\n",
    "end=time.time()"
   ]
  },
  {
   "cell_type": "code",
   "execution_count": 85,
   "id": "7778cd24-458d-4427-a327-931065752b2e",
   "metadata": {},
   "outputs": [
    {
     "data": {
      "text/plain": [
       "5.877111196517944"
      ]
     },
     "execution_count": 85,
     "metadata": {},
     "output_type": "execute_result"
    }
   ],
   "source": [
    "end-start"
   ]
  },
  {
   "cell_type": "code",
   "execution_count": 86,
   "id": "3d07e3a5-97ad-425b-a7f3-f6cd0a85abd4",
   "metadata": {},
   "outputs": [
    {
     "data": {
      "text/plain": [
       "0     Hi James , \\n\\n claim complimentary gift ? \\n\\...\n",
       "1     \\n alt_text \\n Congratulations , earned \\n 500...\n",
       "2     GitHub launch code , @Mortyj420 ! \\n \\n octoca...\n",
       "3     Hello , \\n \\n Thank contacting Virtual Reward ...\n",
       "4     Hey Prachanda Rawal , \\n\\n Today newsletter Ja...\n",
       "                            ...                        \n",
       "79    Dear Maryam , \\n\\n \\n\\n like thank application...\n",
       "80    Dear Customer , \\n\\n Welcome Kilimall , Thanks...\n",
       "81    Dear vladis163rus , \\n Steam Guard code need l...\n",
       "82    View Browser | Log \\n \\n \\n\\n Skrill logo \\n M...\n",
       "83    received gift ! \\n Sign Bard Explorers India c...\n",
       "Name: text, Length: 84, dtype: object"
      ]
     },
     "execution_count": 86,
     "metadata": {},
     "output_type": "execute_result"
    }
   ],
   "source": [
    "dataset[\"text\"].apply(remove_stopwords)"
   ]
  },
  {
   "cell_type": "markdown",
   "id": "14b1d6a0-c554-4362-833a-52a3e24ceb80",
   "metadata": {},
   "source": [
    "## Emoji "
   ]
  },
  {
   "cell_type": "code",
   "execution_count": 91,
   "id": "087f7e47-52ad-4837-a3ce-1b25c1000f10",
   "metadata": {},
   "outputs": [
    {
     "data": {
      "text/html": [
       "<div>\n",
       "<style scoped>\n",
       "    .dataframe tbody tr th:only-of-type {\n",
       "        vertical-align: middle;\n",
       "    }\n",
       "\n",
       "    .dataframe tbody tr th {\n",
       "        vertical-align: top;\n",
       "    }\n",
       "\n",
       "    .dataframe thead th {\n",
       "        text-align: right;\n",
       "    }\n",
       "</style>\n",
       "<table border=\"1\" class=\"dataframe\">\n",
       "  <thead>\n",
       "    <tr style=\"text-align: right;\">\n",
       "      <th></th>\n",
       "      <th>text</th>\n",
       "    </tr>\n",
       "  </thead>\n",
       "  <tbody>\n",
       "    <tr>\n",
       "      <th>0</th>\n",
       "      <td>Hello 😊</td>\n",
       "    </tr>\n",
       "    <tr>\n",
       "      <th>1</th>\n",
       "      <td>Python is awesome! 🚀🔥</td>\n",
       "    </tr>\n",
       "    <tr>\n",
       "      <th>2</th>\n",
       "      <td>Remove 😡 emojis 🤖</td>\n",
       "    </tr>\n",
       "  </tbody>\n",
       "</table>\n",
       "</div>"
      ],
      "text/plain": [
       "                    text\n",
       "0                Hello 😊\n",
       "1  Python is awesome! 🚀🔥\n",
       "2      Remove 😡 emojis 🤖"
      ]
     },
     "execution_count": 91,
     "metadata": {},
     "output_type": "execute_result"
    }
   ],
   "source": [
    "data = {'text': [\"Hello 😊\", \"Python is awesome! 🚀🔥\", \"Remove 😡 emojis 🤖\"]}\n",
    "df2 = pd.DataFrame(data)\n",
    "df2"
   ]
  },
  {
   "cell_type": "code",
   "execution_count": 92,
   "id": "6eb30d7c-0ea5-4595-9010-d861be522aa5",
   "metadata": {},
   "outputs": [],
   "source": [
    "import re\n",
    "\n",
    "# Emoji regex pattern\n",
    "emoji_pattern = re.compile(\"[\"\n",
    "    u\"\\U0001F600-\\U0001F64F\"  # Emoticons\n",
    "    u\"\\U0001F300-\\U0001F5FF\"  # Symbols & pictographs\n",
    "    u\"\\U0001F680-\\U0001F6FF\"  # Transport & map symbols\n",
    "    u\"\\U0001F700-\\U0001F77F\"  # Alchemical symbols\n",
    "    u\"\\U0001F780-\\U0001F7FF\"  # Geometric symbols\n",
    "    u\"\\U0001F800-\\U0001F8FF\"  # Supplemental symbols\n",
    "    u\"\\U0001F900-\\U0001F9FF\"  # Supplemental symbols and pictographs\n",
    "    u\"\\U0001FA00-\\U0001FA6F\"  # Additional symbols\n",
    "    u\"\\U0001FA70-\\U0001FAFF\"  # More emojis\n",
    "    u\"\\U00002702-\\U000027B0\"  # Dingbats\n",
    "    u\"\\U000024C2-\\U0001F251\"  # Enclosed characters\n",
    "    \"]+\", flags=re.UNICODE)\n",
    "\n",
    "# Function to remove emojis using regex\n",
    "def remove_emojis_regex(text):\n",
    "    return emoji_pattern.sub(r'', text)\n",
    "\n",
    "# Apply function to DataFrame\n",
    "df2[\"text\"] = df2[\"text\"].apply(remove_emojis_regex)\n",
    "\n"
   ]
  },
  {
   "cell_type": "code",
   "execution_count": 93,
   "id": "ab995589-dabb-408c-aab4-dcaee8ae0034",
   "metadata": {},
   "outputs": [
    {
     "data": {
      "text/html": [
       "<div>\n",
       "<style scoped>\n",
       "    .dataframe tbody tr th:only-of-type {\n",
       "        vertical-align: middle;\n",
       "    }\n",
       "\n",
       "    .dataframe tbody tr th {\n",
       "        vertical-align: top;\n",
       "    }\n",
       "\n",
       "    .dataframe thead th {\n",
       "        text-align: right;\n",
       "    }\n",
       "</style>\n",
       "<table border=\"1\" class=\"dataframe\">\n",
       "  <thead>\n",
       "    <tr style=\"text-align: right;\">\n",
       "      <th></th>\n",
       "      <th>text</th>\n",
       "    </tr>\n",
       "  </thead>\n",
       "  <tbody>\n",
       "    <tr>\n",
       "      <th>0</th>\n",
       "      <td>Hello</td>\n",
       "    </tr>\n",
       "    <tr>\n",
       "      <th>1</th>\n",
       "      <td>Python is awesome!</td>\n",
       "    </tr>\n",
       "    <tr>\n",
       "      <th>2</th>\n",
       "      <td>Remove  emojis</td>\n",
       "    </tr>\n",
       "  </tbody>\n",
       "</table>\n",
       "</div>"
      ],
      "text/plain": [
       "                  text\n",
       "0               Hello \n",
       "1  Python is awesome! \n",
       "2      Remove  emojis "
      ]
     },
     "execution_count": 93,
     "metadata": {},
     "output_type": "execute_result"
    }
   ],
   "source": [
    "df2"
   ]
  },
  {
   "cell_type": "code",
   "execution_count": null,
   "id": "3238f1a9-07f2-4c7c-a2b1-cba82529a760",
   "metadata": {},
   "outputs": [],
   "source": []
  }
 ],
 "metadata": {
  "kernelspec": {
   "display_name": "Python 3 (ipykernel)",
   "language": "python",
   "name": "python3"
  },
  "language_info": {
   "codemirror_mode": {
    "name": "ipython",
    "version": 3
   },
   "file_extension": ".py",
   "mimetype": "text/x-python",
   "name": "python",
   "nbconvert_exporter": "python",
   "pygments_lexer": "ipython3",
   "version": "3.12.4"
  }
 },
 "nbformat": 4,
 "nbformat_minor": 5
}
