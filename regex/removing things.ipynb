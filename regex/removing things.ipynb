{
 "cells": [
  {
   "cell_type": "code",
   "execution_count": 88,
   "id": "bd74f8c0-cae6-4533-a6bc-f0f972b858b2",
   "metadata": {},
   "outputs": [],
   "source": [
    "import pandas as pd\n",
    "dataset=pd.read_csv(r\"C:\\Users\\wwrao\\Documents\\30 days of machine learning\\naive byes\\email_spam.csv\")"
   ]
  },
  {
   "cell_type": "code",
   "execution_count": 89,
   "id": "11887001-fb6b-4702-9f5e-b712f91bbdfd",
   "metadata": {},
   "outputs": [
    {
     "data": {
      "text/html": [
       "<div>\n",
       "<style scoped>\n",
       "    .dataframe tbody tr th:only-of-type {\n",
       "        vertical-align: middle;\n",
       "    }\n",
       "\n",
       "    .dataframe tbody tr th {\n",
       "        vertical-align: top;\n",
       "    }\n",
       "\n",
       "    .dataframe thead th {\n",
       "        text-align: right;\n",
       "    }\n",
       "</style>\n",
       "<table border=\"1\" class=\"dataframe\">\n",
       "  <thead>\n",
       "    <tr style=\"text-align: right;\">\n",
       "      <th></th>\n",
       "      <th>title</th>\n",
       "      <th>text</th>\n",
       "      <th>type</th>\n",
       "    </tr>\n",
       "  </thead>\n",
       "  <tbody>\n",
       "    <tr>\n",
       "      <th>0</th>\n",
       "      <td>?? the secrets to SUCCESS</td>\n",
       "      <td>Hi James,\\n\\nHave you claim your complimentary...</td>\n",
       "      <td>spam</td>\n",
       "    </tr>\n",
       "    <tr>\n",
       "      <th>1</th>\n",
       "      <td>?? You Earned 500 GCLoot Points</td>\n",
       "      <td>\\nalt_text\\nCongratulations, you just earned\\n...</td>\n",
       "      <td>not spam</td>\n",
       "    </tr>\n",
       "    <tr>\n",
       "      <th>2</th>\n",
       "      <td>?? Your GitHub launch code</td>\n",
       "      <td>Here's your GitHub launch code, @Mortyj420!\\n ...</td>\n",
       "      <td>not spam</td>\n",
       "    </tr>\n",
       "    <tr>\n",
       "      <th>3</th>\n",
       "      <td>[The Virtual Reward Center] Re: ** Clarifications</td>\n",
       "      <td>Hello,\\n \\nThank you for contacting the Virtua...</td>\n",
       "      <td>not spam</td>\n",
       "    </tr>\n",
       "    <tr>\n",
       "      <th>4</th>\n",
       "      <td>10-1 MLB Expert Inside, Plus Everything You Ne...</td>\n",
       "      <td>Hey Prachanda Rawal,\\n\\nToday's newsletter is ...</td>\n",
       "      <td>spam</td>\n",
       "    </tr>\n",
       "    <tr>\n",
       "      <th>5</th>\n",
       "      <td>AFE Model Casting Call</td>\n",
       "      <td>Model Casting Call\\nThank you for taking the t...</td>\n",
       "      <td>not spam</td>\n",
       "    </tr>\n",
       "    <tr>\n",
       "      <th>6</th>\n",
       "      <td>AFE Model Casting Call</td>\n",
       "      <td>Model Casting Call\\nThank you for taking the t...</td>\n",
       "      <td>not spam</td>\n",
       "    </tr>\n",
       "    <tr>\n",
       "      <th>7</th>\n",
       "      <td>Affordable American MBA degree ($180month)</td>\n",
       "      <td>Today more than ever you need to upskill and r...</td>\n",
       "      <td>spam</td>\n",
       "    </tr>\n",
       "    <tr>\n",
       "      <th>8</th>\n",
       "      <td>amazon.com.tr, action needed: Sign-in</td>\n",
       "      <td>\\nLogo Image\\nSenol Yildirim,\\n\\nSomeone signe...</td>\n",
       "      <td>not spam</td>\n",
       "    </tr>\n",
       "    <tr>\n",
       "      <th>9</th>\n",
       "      <td>Appen 9 Project Invite - A5655?Request detail ...</td>\n",
       "      <td>Hi,\\n\\n \\n\\nThank you for your interest in joi...</td>\n",
       "      <td>not spam</td>\n",
       "    </tr>\n",
       "  </tbody>\n",
       "</table>\n",
       "</div>"
      ],
      "text/plain": [
       "                                               title  \\\n",
       "0                          ?? the secrets to SUCCESS   \n",
       "1                    ?? You Earned 500 GCLoot Points   \n",
       "2                         ?? Your GitHub launch code   \n",
       "3  [The Virtual Reward Center] Re: ** Clarifications   \n",
       "4  10-1 MLB Expert Inside, Plus Everything You Ne...   \n",
       "5                            AFE Model Casting Call    \n",
       "6                            AFE Model Casting Call    \n",
       "7         Affordable American MBA degree ($180month)   \n",
       "8              amazon.com.tr, action needed: Sign-in   \n",
       "9  Appen 9 Project Invite - A5655?Request detail ...   \n",
       "\n",
       "                                                text      type  \n",
       "0  Hi James,\\n\\nHave you claim your complimentary...      spam  \n",
       "1  \\nalt_text\\nCongratulations, you just earned\\n...  not spam  \n",
       "2  Here's your GitHub launch code, @Mortyj420!\\n ...  not spam  \n",
       "3  Hello,\\n \\nThank you for contacting the Virtua...  not spam  \n",
       "4  Hey Prachanda Rawal,\\n\\nToday's newsletter is ...      spam  \n",
       "5  Model Casting Call\\nThank you for taking the t...  not spam  \n",
       "6  Model Casting Call\\nThank you for taking the t...  not spam  \n",
       "7  Today more than ever you need to upskill and r...      spam  \n",
       "8  \\nLogo Image\\nSenol Yildirim,\\n\\nSomeone signe...  not spam  \n",
       "9  Hi,\\n\\n \\n\\nThank you for your interest in joi...  not spam  "
      ]
     },
     "execution_count": 89,
     "metadata": {},
     "output_type": "execute_result"
    }
   ],
   "source": [
    "dataset.head(10)"
   ]
  },
  {
   "cell_type": "code",
   "execution_count": 90,
   "id": "5aa54c93-2298-4d65-af62-e98163305f4c",
   "metadata": {
    "scrolled": true
   },
   "outputs": [
    {
     "data": {
      "text/plain": [
       "'model casting call\\nthank you for taking the time to register for the anambra fashion expo 2023 model call. we are thrilled to have received your information and are excited to review your submission.\\n\\nour team will be carefully reviewing all of the applications we receive over the\\nnext few weeks\\n\\nhave you followed us on our social media handles?\\n\\nremember, one of the prerequisites for qualification is to follow all our social\\nmedia accounts and share all our content using the hashtag #afe2023\\n\\nyou can follow us on facebook, instagram, and twitter.\\n\\nfacebook: https://facebook.com/anambrafashionexpo2023\\ninstagram: https://instagram.com/anambrafashionexpo\\ntwitter: https://twitter.com/anambrafashion\\n\\nin the meantime, we encourage you to stay connected and keep an eye out for\\nupdates about the event. we will be posting!\\n\\nnote: create your personalized profile picture (dp) for the model casting of the anambra fashion expo 2023\\n\\nyou can create your dp using the following link: https://getdp.co/afe2023\\n\\nbest regards,\\n\\nanambra fashion expo 2023 team '"
      ]
     },
     "execution_count": 90,
     "metadata": {},
     "output_type": "execute_result"
    }
   ],
   "source": [
    "dataset[\"text\"][5].lower()"
   ]
  },
  {
   "cell_type": "code",
   "execution_count": 91,
   "id": "b3303a5a-e934-46a9-8c66-701dc5d374b0",
   "metadata": {},
   "outputs": [],
   "source": [
    "dataset[\"text\"]=dataset[\"text\"].str.lower()"
   ]
  },
  {
   "cell_type": "code",
   "execution_count": 92,
   "id": "4d3c1793-d49b-481d-9dff-6ed763640a63",
   "metadata": {},
   "outputs": [
    {
     "data": {
      "text/html": [
       "<div>\n",
       "<style scoped>\n",
       "    .dataframe tbody tr th:only-of-type {\n",
       "        vertical-align: middle;\n",
       "    }\n",
       "\n",
       "    .dataframe tbody tr th {\n",
       "        vertical-align: top;\n",
       "    }\n",
       "\n",
       "    .dataframe thead th {\n",
       "        text-align: right;\n",
       "    }\n",
       "</style>\n",
       "<table border=\"1\" class=\"dataframe\">\n",
       "  <thead>\n",
       "    <tr style=\"text-align: right;\">\n",
       "      <th></th>\n",
       "      <th>title</th>\n",
       "      <th>text</th>\n",
       "      <th>type</th>\n",
       "    </tr>\n",
       "  </thead>\n",
       "  <tbody>\n",
       "    <tr>\n",
       "      <th>0</th>\n",
       "      <td>?? the secrets to SUCCESS</td>\n",
       "      <td>hi james,\\n\\nhave you claim your complimentary...</td>\n",
       "      <td>spam</td>\n",
       "    </tr>\n",
       "    <tr>\n",
       "      <th>1</th>\n",
       "      <td>?? You Earned 500 GCLoot Points</td>\n",
       "      <td>\\nalt_text\\ncongratulations, you just earned\\n...</td>\n",
       "      <td>not spam</td>\n",
       "    </tr>\n",
       "    <tr>\n",
       "      <th>2</th>\n",
       "      <td>?? Your GitHub launch code</td>\n",
       "      <td>here's your github launch code, @mortyj420!\\n ...</td>\n",
       "      <td>not spam</td>\n",
       "    </tr>\n",
       "    <tr>\n",
       "      <th>3</th>\n",
       "      <td>[The Virtual Reward Center] Re: ** Clarifications</td>\n",
       "      <td>hello,\\n \\nthank you for contacting the virtua...</td>\n",
       "      <td>not spam</td>\n",
       "    </tr>\n",
       "    <tr>\n",
       "      <th>4</th>\n",
       "      <td>10-1 MLB Expert Inside, Plus Everything You Ne...</td>\n",
       "      <td>hey prachanda rawal,\\n\\ntoday's newsletter is ...</td>\n",
       "      <td>spam</td>\n",
       "    </tr>\n",
       "    <tr>\n",
       "      <th>...</th>\n",
       "      <td>...</td>\n",
       "      <td>...</td>\n",
       "      <td>...</td>\n",
       "    </tr>\n",
       "    <tr>\n",
       "      <th>79</th>\n",
       "      <td>Your application for the position of  Child Pr...</td>\n",
       "      <td>dear maryam, \\n\\n \\n\\ni would like to thank yo...</td>\n",
       "      <td>not spam</td>\n",
       "    </tr>\n",
       "    <tr>\n",
       "      <th>80</th>\n",
       "      <td>Your Kilimall Account is Ready - Shopping Now!</td>\n",
       "      <td>dear customer,\\n\\nwelcome to kilimall, thanks ...</td>\n",
       "      <td>not spam</td>\n",
       "    </tr>\n",
       "    <tr>\n",
       "      <th>81</th>\n",
       "      <td>Your Steam account: Access from new web or mob...</td>\n",
       "      <td>dear vladis163rus,\\nhere is the steam guard co...</td>\n",
       "      <td>not spam</td>\n",
       "    </tr>\n",
       "    <tr>\n",
       "      <th>82</th>\n",
       "      <td>Your uploaded document is rejected</td>\n",
       "      <td>view in browser | log in\\n \\n \\n\\nskrill logo\\...</td>\n",
       "      <td>not spam</td>\n",
       "    </tr>\n",
       "    <tr>\n",
       "      <th>83</th>\n",
       "      <td>You've Earned a Reward from Bard Explorers India</td>\n",
       "      <td>you've received a gift!\\nsign in to your bard ...</td>\n",
       "      <td>not spam</td>\n",
       "    </tr>\n",
       "  </tbody>\n",
       "</table>\n",
       "<p>84 rows × 3 columns</p>\n",
       "</div>"
      ],
      "text/plain": [
       "                                                title  \\\n",
       "0                           ?? the secrets to SUCCESS   \n",
       "1                     ?? You Earned 500 GCLoot Points   \n",
       "2                          ?? Your GitHub launch code   \n",
       "3   [The Virtual Reward Center] Re: ** Clarifications   \n",
       "4   10-1 MLB Expert Inside, Plus Everything You Ne...   \n",
       "..                                                ...   \n",
       "79  Your application for the position of  Child Pr...   \n",
       "80     Your Kilimall Account is Ready - Shopping Now!   \n",
       "81  Your Steam account: Access from new web or mob...   \n",
       "82                 Your uploaded document is rejected   \n",
       "83   You've Earned a Reward from Bard Explorers India   \n",
       "\n",
       "                                                 text      type  \n",
       "0   hi james,\\n\\nhave you claim your complimentary...      spam  \n",
       "1   \\nalt_text\\ncongratulations, you just earned\\n...  not spam  \n",
       "2   here's your github launch code, @mortyj420!\\n ...  not spam  \n",
       "3   hello,\\n \\nthank you for contacting the virtua...  not spam  \n",
       "4   hey prachanda rawal,\\n\\ntoday's newsletter is ...      spam  \n",
       "..                                                ...       ...  \n",
       "79  dear maryam, \\n\\n \\n\\ni would like to thank yo...  not spam  \n",
       "80  dear customer,\\n\\nwelcome to kilimall, thanks ...  not spam  \n",
       "81  dear vladis163rus,\\nhere is the steam guard co...  not spam  \n",
       "82  view in browser | log in\\n \\n \\n\\nskrill logo\\...  not spam  \n",
       "83  you've received a gift!\\nsign in to your bard ...  not spam  \n",
       "\n",
       "[84 rows x 3 columns]"
      ]
     },
     "execution_count": 92,
     "metadata": {},
     "output_type": "execute_result"
    }
   ],
   "source": [
    "dataset"
   ]
  },
  {
   "cell_type": "markdown",
   "id": "a1270fa4-2e5a-4bd6-9e3f-81cab51fd467",
   "metadata": {},
   "source": [
    "<h4>Substitute html  tags</h4>"
   ]
  },
  {
   "cell_type": "code",
   "execution_count": 93,
   "id": "722e56b7-8ecb-4647-8396-e99ece6f3781",
   "metadata": {},
   "outputs": [],
   "source": [
    "import re"
   ]
  },
  {
   "cell_type": "code",
   "execution_count": 94,
   "id": "4604a777-8eca-499c-8ed5-9b7d567c33d9",
   "metadata": {},
   "outputs": [],
   "source": [
    "\n",
    "def remove_html_tags(text):\n",
    "    clean_text = re.sub(r'<.*?>', '', text)  # Removes anything between < and >\n",
    "    return clean_text"
   ]
  },
  {
   "cell_type": "code",
   "execution_count": 95,
   "id": "35402f0b-df9f-452f-91f4-94f15cc5c049",
   "metadata": {},
   "outputs": [],
   "source": [
    "dataset[\"text\"]=dataset[\"text\"].apply(remove_html_tags)"
   ]
  },
  {
   "cell_type": "code",
   "execution_count": 96,
   "id": "19d243c7-e19a-43eb-a36f-d58a1b1239eb",
   "metadata": {},
   "outputs": [
    {
     "data": {
      "text/html": [
       "<div>\n",
       "<style scoped>\n",
       "    .dataframe tbody tr th:only-of-type {\n",
       "        vertical-align: middle;\n",
       "    }\n",
       "\n",
       "    .dataframe tbody tr th {\n",
       "        vertical-align: top;\n",
       "    }\n",
       "\n",
       "    .dataframe thead th {\n",
       "        text-align: right;\n",
       "    }\n",
       "</style>\n",
       "<table border=\"1\" class=\"dataframe\">\n",
       "  <thead>\n",
       "    <tr style=\"text-align: right;\">\n",
       "      <th></th>\n",
       "      <th>title</th>\n",
       "      <th>text</th>\n",
       "      <th>type</th>\n",
       "    </tr>\n",
       "  </thead>\n",
       "  <tbody>\n",
       "    <tr>\n",
       "      <th>0</th>\n",
       "      <td>?? the secrets to SUCCESS</td>\n",
       "      <td>hi james,\\n\\nhave you claim your complimentary...</td>\n",
       "      <td>spam</td>\n",
       "    </tr>\n",
       "    <tr>\n",
       "      <th>1</th>\n",
       "      <td>?? You Earned 500 GCLoot Points</td>\n",
       "      <td>\\nalt_text\\ncongratulations, you just earned\\n...</td>\n",
       "      <td>not spam</td>\n",
       "    </tr>\n",
       "    <tr>\n",
       "      <th>2</th>\n",
       "      <td>?? Your GitHub launch code</td>\n",
       "      <td>here's your github launch code, @mortyj420!\\n ...</td>\n",
       "      <td>not spam</td>\n",
       "    </tr>\n",
       "    <tr>\n",
       "      <th>3</th>\n",
       "      <td>[The Virtual Reward Center] Re: ** Clarifications</td>\n",
       "      <td>hello,\\n \\nthank you for contacting the virtua...</td>\n",
       "      <td>not spam</td>\n",
       "    </tr>\n",
       "    <tr>\n",
       "      <th>4</th>\n",
       "      <td>10-1 MLB Expert Inside, Plus Everything You Ne...</td>\n",
       "      <td>hey prachanda rawal,\\n\\ntoday's newsletter is ...</td>\n",
       "      <td>spam</td>\n",
       "    </tr>\n",
       "    <tr>\n",
       "      <th>...</th>\n",
       "      <td>...</td>\n",
       "      <td>...</td>\n",
       "      <td>...</td>\n",
       "    </tr>\n",
       "    <tr>\n",
       "      <th>79</th>\n",
       "      <td>Your application for the position of  Child Pr...</td>\n",
       "      <td>dear maryam, \\n\\n \\n\\ni would like to thank yo...</td>\n",
       "      <td>not spam</td>\n",
       "    </tr>\n",
       "    <tr>\n",
       "      <th>80</th>\n",
       "      <td>Your Kilimall Account is Ready - Shopping Now!</td>\n",
       "      <td>dear customer,\\n\\nwelcome to kilimall, thanks ...</td>\n",
       "      <td>not spam</td>\n",
       "    </tr>\n",
       "    <tr>\n",
       "      <th>81</th>\n",
       "      <td>Your Steam account: Access from new web or mob...</td>\n",
       "      <td>dear vladis163rus,\\nhere is the steam guard co...</td>\n",
       "      <td>not spam</td>\n",
       "    </tr>\n",
       "    <tr>\n",
       "      <th>82</th>\n",
       "      <td>Your uploaded document is rejected</td>\n",
       "      <td>view in browser | log in\\n \\n \\n\\nskrill logo\\...</td>\n",
       "      <td>not spam</td>\n",
       "    </tr>\n",
       "    <tr>\n",
       "      <th>83</th>\n",
       "      <td>You've Earned a Reward from Bard Explorers India</td>\n",
       "      <td>you've received a gift!\\nsign in to your bard ...</td>\n",
       "      <td>not spam</td>\n",
       "    </tr>\n",
       "  </tbody>\n",
       "</table>\n",
       "<p>84 rows × 3 columns</p>\n",
       "</div>"
      ],
      "text/plain": [
       "                                                title  \\\n",
       "0                           ?? the secrets to SUCCESS   \n",
       "1                     ?? You Earned 500 GCLoot Points   \n",
       "2                          ?? Your GitHub launch code   \n",
       "3   [The Virtual Reward Center] Re: ** Clarifications   \n",
       "4   10-1 MLB Expert Inside, Plus Everything You Ne...   \n",
       "..                                                ...   \n",
       "79  Your application for the position of  Child Pr...   \n",
       "80     Your Kilimall Account is Ready - Shopping Now!   \n",
       "81  Your Steam account: Access from new web or mob...   \n",
       "82                 Your uploaded document is rejected   \n",
       "83   You've Earned a Reward from Bard Explorers India   \n",
       "\n",
       "                                                 text      type  \n",
       "0   hi james,\\n\\nhave you claim your complimentary...      spam  \n",
       "1   \\nalt_text\\ncongratulations, you just earned\\n...  not spam  \n",
       "2   here's your github launch code, @mortyj420!\\n ...  not spam  \n",
       "3   hello,\\n \\nthank you for contacting the virtua...  not spam  \n",
       "4   hey prachanda rawal,\\n\\ntoday's newsletter is ...      spam  \n",
       "..                                                ...       ...  \n",
       "79  dear maryam, \\n\\n \\n\\ni would like to thank yo...  not spam  \n",
       "80  dear customer,\\n\\nwelcome to kilimall, thanks ...  not spam  \n",
       "81  dear vladis163rus,\\nhere is the steam guard co...  not spam  \n",
       "82  view in browser | log in\\n \\n \\n\\nskrill logo\\...  not spam  \n",
       "83  you've received a gift!\\nsign in to your bard ...  not spam  \n",
       "\n",
       "[84 rows x 3 columns]"
      ]
     },
     "execution_count": 96,
     "metadata": {},
     "output_type": "execute_result"
    }
   ],
   "source": [
    "dataset"
   ]
  },
  {
   "cell_type": "markdown",
   "id": "3344fc34-05d3-4d7c-8ca6-de46e7c78a06",
   "metadata": {},
   "source": [
    "<h3>substiute url </h3>"
   ]
  },
  {
   "cell_type": "code",
   "execution_count": 97,
   "id": "b19cbf45-d8e7-4075-a103-939d82cfc63c",
   "metadata": {},
   "outputs": [],
   "source": [
    "\n",
    "def remove_url(text):\n",
    "    clean_text = re.sub(r'http[s]?://\\S+', '', text)  # Removes anything between < and >\n",
    "    return clean_text"
   ]
  },
  {
   "cell_type": "code",
   "execution_count": 98,
   "id": "d10ebb1e-0fa3-405e-ae7a-ad5522a46b62",
   "metadata": {},
   "outputs": [
    {
     "data": {
      "text/plain": [
       "'model casting call\\nthank you for taking the time to register for the anambra fashion expo 2023 model call. we are thrilled to have received your information and are excited to review your submission.\\n\\nour team will be carefully reviewing all of the applications we receive over the\\nnext few weeks\\n\\nhave you followed us on our social media handles?\\n\\nremember, one of the prerequisites for qualification is to follow all our social\\nmedia accounts and share all our content using the hashtag #afe2023\\n\\nyou can follow us on facebook, instagram, and twitter.\\n\\nfacebook: https://facebook.com/anambrafashionexpo2023\\ninstagram: https://instagram.com/anambrafashionexpo\\ntwitter: https://twitter.com/anambrafashion\\n\\nin the meantime, we encourage you to stay connected and keep an eye out for\\nupdates about the event. we will be posting!\\n\\nnote: create your personalized profile picture (dp) for the model casting of the anambra fashion expo 2023\\n\\nyou can create your dp using the following link: https://getdp.co/afe2023\\n\\nbest regards,\\n\\nanambra fashion expo 2023 team '"
      ]
     },
     "execution_count": 98,
     "metadata": {},
     "output_type": "execute_result"
    }
   ],
   "source": [
    "x=dataset[\"text\"][5]\n",
    "x"
   ]
  },
  {
   "cell_type": "code",
   "execution_count": 99,
   "id": "c670339d-d391-4fbb-a497-b367a58d2272",
   "metadata": {},
   "outputs": [
    {
     "data": {
      "text/plain": [
       "'model casting call\\nthank you for taking the time to register for the anambra fashion expo 2023 model call. we are thrilled to have received your information and are excited to review your submission.\\n\\nour team will be carefully reviewing all of the applications we receive over the\\nnext few weeks\\n\\nhave you followed us on our social media handles?\\n\\nremember, one of the prerequisites for qualification is to follow all our social\\nmedia accounts and share all our content using the hashtag #afe2023\\n\\nyou can follow us on facebook, instagram, and twitter.\\n\\nfacebook: \\ninstagram: \\ntwitter: \\n\\nin the meantime, we encourage you to stay connected and keep an eye out for\\nupdates about the event. we will be posting!\\n\\nnote: create your personalized profile picture (dp) for the model casting of the anambra fashion expo 2023\\n\\nyou can create your dp using the following link: \\n\\nbest regards,\\n\\nanambra fashion expo 2023 team '"
      ]
     },
     "execution_count": 99,
     "metadata": {},
     "output_type": "execute_result"
    }
   ],
   "source": [
    "remove_url(x)"
   ]
  },
  {
   "cell_type": "code",
   "execution_count": 100,
   "id": "f2747529-42e8-4ed3-b9cb-87471a69d51a",
   "metadata": {},
   "outputs": [],
   "source": [
    "dataset[\"text\"]=dataset[\"text\"].apply(remove_url)"
   ]
  },
  {
   "cell_type": "code",
   "execution_count": 101,
   "id": "6aec60bf-4c0a-44de-8b49-eb362b5bcd38",
   "metadata": {},
   "outputs": [
    {
     "data": {
      "text/plain": [
       "'model casting call\\nthank you for taking the time to register for the anambra fashion expo 2023 model call. we are thrilled to have received your information and are excited to review your submission.\\n\\nour team will be carefully reviewing all of the applications we receive over the\\nnext few weeks\\n\\nhave you followed us on our social media handles?\\n\\nremember, one of the prerequisites for qualification is to follow all our social\\nmedia accounts and share all our content using the hashtag #afe2023\\n\\nyou can follow us on facebook, instagram, and twitter.\\n\\nfacebook: \\ninstagram: \\ntwitter: \\n\\nin the meantime, we encourage you to stay connected and keep an eye out for\\nupdates about the event. we will be posting!\\n\\nnote: create your personalized profile picture (dp) for the model casting of the anambra fashion expo 2023\\n\\nyou can create your dp using the following link: \\n\\nbest regards,\\n\\nanambra fashion expo 2023 team '"
      ]
     },
     "execution_count": 101,
     "metadata": {},
     "output_type": "execute_result"
    }
   ],
   "source": [
    "dataset[\"text\"][5]"
   ]
  },
  {
   "cell_type": "code",
   "execution_count": null,
   "id": "814c914a-e463-4710-ab85-63d2e7dcd4be",
   "metadata": {},
   "outputs": [],
   "source": []
  },
  {
   "cell_type": "code",
   "execution_count": null,
   "id": "135cc120-26c1-4320-b4c0-c0a761955ffb",
   "metadata": {},
   "outputs": [],
   "source": []
  },
  {
   "cell_type": "code",
   "execution_count": 102,
   "id": "687019b2-9ca0-4799-86bf-a00684d153de",
   "metadata": {},
   "outputs": [],
   "source": [
    "import string\n"
   ]
  },
  {
   "cell_type": "code",
   "execution_count": 113,
   "id": "63dfe8a7-fafe-4a80-b898-bc2b49f3eeb6",
   "metadata": {},
   "outputs": [],
   "source": [
    "punctuation=string.punctuation"
   ]
  },
  {
   "cell_type": "code",
   "execution_count": 114,
   "id": "b0213238-5f30-4fb6-866f-3023ea457a44",
   "metadata": {},
   "outputs": [
    {
     "data": {
      "text/plain": [
       "'!\"#$%&\\'()*+,-./:;<=>?@[\\\\]^_`{|}~'"
      ]
     },
     "execution_count": 114,
     "metadata": {},
     "output_type": "execute_result"
    }
   ],
   "source": [
    "punctuation"
   ]
  }
 ],
 "metadata": {
  "kernelspec": {
   "display_name": "Python 3 (ipykernel)",
   "language": "python",
   "name": "python3"
  },
  "language_info": {
   "codemirror_mode": {
    "name": "ipython",
    "version": 3
   },
   "file_extension": ".py",
   "mimetype": "text/x-python",
   "name": "python",
   "nbconvert_exporter": "python",
   "pygments_lexer": "ipython3",
   "version": "3.12.4"
  }
 },
 "nbformat": 4,
 "nbformat_minor": 5
}
