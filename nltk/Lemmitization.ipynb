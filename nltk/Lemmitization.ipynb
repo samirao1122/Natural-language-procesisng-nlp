{
 "cells": [
  {
   "cell_type": "code",
   "execution_count": 1,
   "id": "a13e0690-c0d3-4752-bb9e-5ced8a482cea",
   "metadata": {},
   "outputs": [],
   "source": [
    "from nltk.stem import WordNetLemmatizer"
   ]
  },
  {
   "cell_type": "code",
   "execution_count": 2,
   "id": "cab6f2aa-f1a5-4cda-b19f-14cb4d2dc6e4",
   "metadata": {},
   "outputs": [
    {
     "name": "stderr",
     "output_type": "stream",
     "text": [
      "[nltk_data] Error loading wordnet: <urlopen error [Errno 11001]\n",
      "[nltk_data]     getaddrinfo failed>\n"
     ]
    },
    {
     "data": {
      "text/plain": [
       "False"
      ]
     },
     "execution_count": 2,
     "metadata": {},
     "output_type": "execute_result"
    }
   ],
   "source": [
    "import nltk\n",
    "nltk.download('wordnet')"
   ]
  },
  {
   "cell_type": "code",
   "execution_count": 3,
   "id": "4c3655cf-e0f5-49fa-a87c-54b775c62ade",
   "metadata": {},
   "outputs": [],
   "source": [
    "lemmitizer=WordNetLemmatizer()"
   ]
  },
  {
   "cell_type": "code",
   "execution_count": 4,
   "id": "c25a2ad7-3ac2-4ccd-b3f8-37bff067630c",
   "metadata": {},
   "outputs": [],
   "source": [
    "words = [\n",
    "    \"running\", \"happily\", \"studies\", \"bettering\", \"flying\", \"caring\", \"easily\", \n",
    "    \"wolves\", \"children\", \"jumping\", \"playing\", \"driving\", \"watching\", \n",
    "    \"singing\", \"writing\", \"cities\", \"babies\", \"leaves\", \"knives\", \"geese\", \n",
    "    \"brighter\"\n",
    "]"
   ]
  },
  {
   "cell_type": "code",
   "execution_count": 5,
   "id": "a3e4c3ee-d118-4143-8340-533ed8428c6f",
   "metadata": {},
   "outputs": [
    {
     "name": "stdout",
     "output_type": "stream",
     "text": [
      "running >>>>>>>>> running\n",
      "happily >>>>>>>>> happily\n",
      "studies >>>>>>>>> study\n",
      "bettering >>>>>>>>> bettering\n",
      "flying >>>>>>>>> flying\n",
      "caring >>>>>>>>> caring\n",
      "easily >>>>>>>>> easily\n",
      "wolves >>>>>>>>> wolf\n",
      "children >>>>>>>>> child\n",
      "jumping >>>>>>>>> jumping\n",
      "playing >>>>>>>>> playing\n",
      "driving >>>>>>>>> driving\n",
      "watching >>>>>>>>> watching\n",
      "singing >>>>>>>>> singing\n",
      "writing >>>>>>>>> writing\n",
      "cities >>>>>>>>> city\n",
      "babies >>>>>>>>> baby\n",
      "leaves >>>>>>>>> leaf\n",
      "knives >>>>>>>>> knife\n",
      "geese >>>>>>>>> goose\n",
      "brighter >>>>>>>>> brighter\n"
     ]
    }
   ],
   "source": [
    "for word in words:\n",
    "    print(word + \" >>>>>>>>> \" + lemmitizer.lemmatize(word))"
   ]
  },
  {
   "cell_type": "code",
   "execution_count": null,
   "id": "a2b1ea36-9eb6-4253-91ca-9e1a247d3dc9",
   "metadata": {},
   "outputs": [],
   "source": []
  },
  {
   "cell_type": "code",
   "execution_count": 8,
   "id": "016d4e28-6b3e-42b4-a8d8-676a3151d3cf",
   "metadata": {},
   "outputs": [
    {
     "name": "stdout",
     "output_type": "stream",
     "text": [
      "running >>>>>>>>> run\n",
      "happily >>>>>>>>> happily\n",
      "studies >>>>>>>>> study\n",
      "bettering >>>>>>>>> better\n",
      "flying >>>>>>>>> fly\n",
      "caring >>>>>>>>> care\n",
      "easily >>>>>>>>> easily\n",
      "wolves >>>>>>>>> wolves\n",
      "children >>>>>>>>> children\n",
      "jumping >>>>>>>>> jump\n",
      "playing >>>>>>>>> play\n",
      "driving >>>>>>>>> drive\n",
      "watching >>>>>>>>> watch\n",
      "singing >>>>>>>>> sing\n",
      "writing >>>>>>>>> write\n",
      "cities >>>>>>>>> cities\n",
      "babies >>>>>>>>> baby\n",
      "leaves >>>>>>>>> leave\n",
      "knives >>>>>>>>> knives\n",
      "geese >>>>>>>>> geese\n",
      "brighter >>>>>>>>> brighter\n"
     ]
    }
   ],
   "source": [
    "for word in words:\n",
    "    print(word + \" >>>>>>>>> \" + lemmitizer.lemmatize(word,pos=\"v\"))"
   ]
  },
  {
   "cell_type": "code",
   "execution_count": null,
   "id": "7dc5e904-3913-4605-b9e9-6241c817f4b0",
   "metadata": {},
   "outputs": [],
   "source": []
  },
  {
   "cell_type": "code",
   "execution_count": null,
   "id": "d1709172-cc4f-47f5-9a38-ff3df8616e51",
   "metadata": {},
   "outputs": [],
   "source": []
  }
 ],
 "metadata": {
  "kernelspec": {
   "display_name": "Python 3 (ipykernel)",
   "language": "python",
   "name": "python3"
  },
  "language_info": {
   "codemirror_mode": {
    "name": "ipython",
    "version": 3
   },
   "file_extension": ".py",
   "mimetype": "text/x-python",
   "name": "python",
   "nbconvert_exporter": "python",
   "pygments_lexer": "ipython3",
   "version": "3.12.4"
  }
 },
 "nbformat": 4,
 "nbformat_minor": 5
}
