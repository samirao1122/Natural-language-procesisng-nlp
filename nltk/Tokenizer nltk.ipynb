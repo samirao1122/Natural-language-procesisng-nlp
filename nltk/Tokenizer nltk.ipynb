{
 "cells": [
  {
   "cell_type": "code",
   "execution_count": 38,
   "id": "52db16a0-7e04-4d93-968b-eb5a421c2682",
   "metadata": {},
   "outputs": [],
   "source": [
    "corpus=\"\"\"Hello! my name is Sami.\n",
    "Welcome,Enter to this world's of era.\n",
    "In this era are not living with your own \n",
    "\"\"\""
   ]
  },
  {
   "cell_type": "markdown",
   "id": "0c678d46-a26a-4598-9226-3b08eb9b37b0",
   "metadata": {},
   "source": [
    "**Paragraph to sentence**"
   ]
  },
  {
   "cell_type": "code",
   "execution_count": 39,
   "id": "c868e0d8-47aa-4888-a745-bf42298d544d",
   "metadata": {},
   "outputs": [],
   "source": [
    "import nltk "
   ]
  },
  {
   "cell_type": "code",
   "execution_count": 40,
   "id": "3f7b55d8-7834-4c35-a912-01265e68c55f",
   "metadata": {},
   "outputs": [],
   "source": [
    "from nltk.tokenize import sent_tokenize"
   ]
  },
  {
   "cell_type": "code",
   "execution_count": 41,
   "id": "bb804a93-7778-415a-89ba-f614dd8c1e68",
   "metadata": {},
   "outputs": [
    {
     "data": {
      "text/plain": [
       "['Hello!',\n",
       " 'my name is Sami.',\n",
       " \"Welcome,Enter to this world's of era.\",\n",
       " 'In this era are not living with your own']"
      ]
     },
     "execution_count": 41,
     "metadata": {},
     "output_type": "execute_result"
    }
   ],
   "source": [
    "sent_tokenize(corpus)"
   ]
  },
  {
   "cell_type": "markdown",
   "id": "22ed2500-d648-4e4d-ab2d-e45931998928",
   "metadata": {},
   "source": [
    "**PAragraph to word**"
   ]
  },
  {
   "cell_type": "code",
   "execution_count": 42,
   "id": "56ca10cc-c47b-4ac9-addd-90b24f478e3c",
   "metadata": {},
   "outputs": [],
   "source": [
    "from nltk.tokenize import word_tokenize"
   ]
  },
  {
   "cell_type": "code",
   "execution_count": 43,
   "id": "abcd0a0f-4526-4843-a0ca-2cd7055a5ed2",
   "metadata": {
    "scrolled": true
   },
   "outputs": [
    {
     "data": {
      "text/plain": [
       "['Hello',\n",
       " '!',\n",
       " 'my',\n",
       " 'name',\n",
       " 'is',\n",
       " 'Sami',\n",
       " '.',\n",
       " 'Welcome',\n",
       " ',',\n",
       " 'Enter',\n",
       " 'to',\n",
       " 'this',\n",
       " 'world',\n",
       " \"'s\",\n",
       " 'of',\n",
       " 'era',\n",
       " '.',\n",
       " 'In',\n",
       " 'this',\n",
       " 'era',\n",
       " 'are',\n",
       " 'not',\n",
       " 'living',\n",
       " 'with',\n",
       " 'your',\n",
       " 'own']"
      ]
     },
     "execution_count": 43,
     "metadata": {},
     "output_type": "execute_result"
    }
   ],
   "source": [
    "word_tokenize(corpus)"
   ]
  },
  {
   "cell_type": "code",
   "execution_count": 44,
   "id": "8d4652c7-4744-4478-a7d7-0de6f2e24fa0",
   "metadata": {},
   "outputs": [],
   "source": [
    "from nltk.tokenize import wordpunct_tokenize"
   ]
  },
  {
   "cell_type": "code",
   "execution_count": 45,
   "id": "a94bfdd0-b6a8-474f-b45c-76f98ba35479",
   "metadata": {
    "scrolled": true
   },
   "outputs": [
    {
     "data": {
      "text/plain": [
       "['Hello',\n",
       " '!',\n",
       " 'my',\n",
       " 'name',\n",
       " 'is',\n",
       " 'Sami',\n",
       " '.',\n",
       " 'Welcome',\n",
       " ',',\n",
       " 'Enter',\n",
       " 'to',\n",
       " 'this',\n",
       " 'world',\n",
       " \"'\",\n",
       " 's',\n",
       " 'of',\n",
       " 'era',\n",
       " '.',\n",
       " 'In',\n",
       " 'this',\n",
       " 'era',\n",
       " 'are',\n",
       " 'not',\n",
       " 'living',\n",
       " 'with',\n",
       " 'your',\n",
       " 'own']"
      ]
     },
     "execution_count": 45,
     "metadata": {},
     "output_type": "execute_result"
    }
   ],
   "source": [
    "words_token=wordpunct_tokenize(corpus)\n",
    "words_token"
   ]
  },
  {
   "cell_type": "markdown",
   "id": "936febdd-d6d7-4444-b21b-0086281c13c2",
   "metadata": {},
   "source": [
    "**Tree bank word tokenizer**"
   ]
  },
  {
   "cell_type": "code",
   "execution_count": 46,
   "id": "3abfaabc-d23b-4a58-91ab-38aa104980ba",
   "metadata": {},
   "outputs": [],
   "source": [
    "from nltk.tokenize import TreebankWordDetokenizer"
   ]
  },
  {
   "cell_type": "code",
   "execution_count": 47,
   "id": "b1f845e8-56fc-42df-a9cb-15e500c02bc9",
   "metadata": {},
   "outputs": [],
   "source": [
    "tree=TreebankWordDetokenizer()"
   ]
  },
  {
   "cell_type": "code",
   "execution_count": 48,
   "id": "83220ce8-7c4d-4b95-a3ac-ab8d646b293a",
   "metadata": {},
   "outputs": [
    {
     "data": {
      "text/plain": [
       "\"H e l l o!   m y   n a m e   i s   S a m i . \\n W e l c o m e, E n t e r   t o   t h i s   w o r l d' s   o f   e r a . \\n I n   t h i s   e r a   a r e   n o t   l i v i n g   w i t h   y o u r   o w n\""
      ]
     },
     "execution_count": 48,
     "metadata": {},
     "output_type": "execute_result"
    }
   ],
   "source": [
    "tree.tokenize(corpus)"
   ]
  },
  {
   "cell_type": "code",
   "execution_count": null,
   "id": "22ea5be7-0bd4-43ba-be98-4982dccd91f4",
   "metadata": {},
   "outputs": [],
   "source": []
  },
  {
   "cell_type": "code",
   "execution_count": null,
   "id": "d52995e1-9c34-4199-8e24-df8dd9fe2157",
   "metadata": {},
   "outputs": [],
   "source": []
  }
 ],
 "metadata": {
  "kernelspec": {
   "display_name": "Python 3 (ipykernel)",
   "language": "python",
   "name": "python3"
  },
  "language_info": {
   "codemirror_mode": {
    "name": "ipython",
    "version": 3
   },
   "file_extension": ".py",
   "mimetype": "text/x-python",
   "name": "python",
   "nbconvert_exporter": "python",
   "pygments_lexer": "ipython3",
   "version": "3.12.4"
  }
 },
 "nbformat": 4,
 "nbformat_minor": 5
}
