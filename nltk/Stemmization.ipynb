{
 "cells": [
  {
   "cell_type": "code",
   "execution_count": 1,
   "id": "7c6a5bac-1dda-461f-a297-993eaa1af740",
   "metadata": {},
   "outputs": [],
   "source": [
    "from nltk.stem import PorterStemmer"
   ]
  },
  {
   "cell_type": "code",
   "execution_count": 8,
   "id": "f8c24098-18c7-4324-a120-3e33ae3098ec",
   "metadata": {},
   "outputs": [],
   "source": [
    "stemming=PorterStemmer()"
   ]
  },
  {
   "cell_type": "code",
   "execution_count": 11,
   "id": "f3f10438-d93d-46b4-8c4e-2b76fcfad421",
   "metadata": {},
   "outputs": [],
   "source": [
    "words = [\n",
    "    \"running\", \"happily\", \"studies\", \"bettering\", \"flying\", \"caring\", \"easily\", \n",
    "    \"wolves\", \"children\", \"jumping\", \"playing\", \"driving\", \"watching\", \n",
    "    \"singing\", \"writing\", \"cities\", \"babies\", \"leaves\", \"knives\", \"geese\", \n",
    "    \"brighter\"\n",
    "]"
   ]
  },
  {
   "cell_type": "code",
   "execution_count": 12,
   "id": "4fde36d7-de51-4d3b-9902-8c6d14c0b790",
   "metadata": {},
   "outputs": [
    {
     "name": "stdout",
     "output_type": "stream",
     "text": [
      "running >>>>>>>>> run\n",
      "happily >>>>>>>>> happili\n",
      "studies >>>>>>>>> studi\n",
      "bettering >>>>>>>>> better\n",
      "flying >>>>>>>>> fli\n",
      "caring >>>>>>>>> care\n",
      "easily >>>>>>>>> easili\n",
      "wolves >>>>>>>>> wolv\n",
      "children >>>>>>>>> children\n",
      "jumping >>>>>>>>> jump\n",
      "playing >>>>>>>>> play\n",
      "driving >>>>>>>>> drive\n",
      "watching >>>>>>>>> watch\n",
      "singing >>>>>>>>> sing\n",
      "writing >>>>>>>>> write\n",
      "cities >>>>>>>>> citi\n",
      "babies >>>>>>>>> babi\n",
      "leaves >>>>>>>>> leav\n",
      "knives >>>>>>>>> knive\n",
      "geese >>>>>>>>> gees\n",
      "brighter >>>>>>>>> brighter\n"
     ]
    }
   ],
   "source": [
    "for word in words:\n",
    "    print(word + \" >>>>>>>>> \" + stemming.stem(word))"
   ]
  },
  {
   "cell_type": "code",
   "execution_count": null,
   "id": "17c84d21-ac34-492f-ad11-fc9acde9e97c",
   "metadata": {},
   "outputs": [],
   "source": []
  },
  {
   "cell_type": "code",
   "execution_count": 13,
   "id": "b4c103bf-e8e1-4d74-b79c-9ff68fba7233",
   "metadata": {},
   "outputs": [],
   "source": [
    "from nltk.stem import LancasterStemmer"
   ]
  },
  {
   "cell_type": "code",
   "execution_count": 14,
   "id": "6e5a8118-4b8f-4357-a39f-b7f321683577",
   "metadata": {},
   "outputs": [],
   "source": [
    "lancaster=LancasterStemmer()"
   ]
  },
  {
   "cell_type": "code",
   "execution_count": 22,
   "id": "2e5dee5d-e174-431e-8eed-fba555a1d3c8",
   "metadata": {},
   "outputs": [
    {
     "name": "stdout",
     "output_type": "stream",
     "text": [
      "running >>>>>>>>> run\n",
      "happily >>>>>>>>> happy\n",
      "studies >>>>>>>>> study\n",
      "bettering >>>>>>>>> bet\n",
      "flying >>>>>>>>> fly\n",
      "caring >>>>>>>>> car\n",
      "easily >>>>>>>>> easy\n",
      "wolves >>>>>>>>> wolv\n",
      "children >>>>>>>>> childr\n",
      "jumping >>>>>>>>> jump\n",
      "playing >>>>>>>>> play\n",
      "driving >>>>>>>>> driv\n",
      "watching >>>>>>>>> watch\n",
      "singing >>>>>>>>> sing\n",
      "writing >>>>>>>>> writ\n",
      "cities >>>>>>>>> city\n",
      "babies >>>>>>>>> baby\n",
      "leaves >>>>>>>>> leav\n",
      "knives >>>>>>>>> kniv\n",
      "geese >>>>>>>>> gees\n",
      "brighter >>>>>>>>> bright\n"
     ]
    }
   ],
   "source": [
    "for word in words:\n",
    "    print(word + \" >>>>>>>>> \" + lancaster.stem(word))"
   ]
  },
  {
   "cell_type": "markdown",
   "id": "11a6a9ea-c2ed-4306-aa07-962ac945fb17",
   "metadata": {},
   "source": [
    "**Compare both**"
   ]
  },
  {
   "cell_type": "code",
   "execution_count": 21,
   "id": "1ae313ad-c0f3-4ac5-b5b7-97d24d8bed64",
   "metadata": {},
   "outputs": [
    {
     "name": "stdout",
     "output_type": "stream",
     "text": [
      "running >>>>>>>>> run>>>>>>>>run\n",
      "happily >>>>>>>>> happy>>>>>>>>happili\n",
      "studies >>>>>>>>> study>>>>>>>>studi\n",
      "bettering >>>>>>>>> bet>>>>>>>>better\n",
      "flying >>>>>>>>> fly>>>>>>>>fli\n",
      "caring >>>>>>>>> car>>>>>>>>care\n",
      "easily >>>>>>>>> easy>>>>>>>>easili\n",
      "wolves >>>>>>>>> wolv>>>>>>>>wolv\n",
      "children >>>>>>>>> childr>>>>>>>>children\n",
      "jumping >>>>>>>>> jump>>>>>>>>jump\n",
      "playing >>>>>>>>> play>>>>>>>>play\n",
      "driving >>>>>>>>> driv>>>>>>>>drive\n",
      "watching >>>>>>>>> watch>>>>>>>>watch\n",
      "singing >>>>>>>>> sing>>>>>>>>sing\n",
      "writing >>>>>>>>> writ>>>>>>>>write\n",
      "cities >>>>>>>>> city>>>>>>>>citi\n",
      "babies >>>>>>>>> baby>>>>>>>>babi\n",
      "leaves >>>>>>>>> leav>>>>>>>>leav\n",
      "knives >>>>>>>>> kniv>>>>>>>>knive\n",
      "geese >>>>>>>>> gees>>>>>>>>gees\n",
      "brighter >>>>>>>>> bright>>>>>>>>brighter\n"
     ]
    }
   ],
   "source": [
    "for word in words:\n",
    "    print(word + \" >>>>>>>>> \" + lancaster.stem(word)+\">>>>>>>>\"+stemming.stem(word))"
   ]
  },
  {
   "cell_type": "code",
   "execution_count": 24,
   "id": "2325e754-ec6d-41f3-8206-b5130093d97a",
   "metadata": {},
   "outputs": [],
   "source": [
    "from nltk.stem import RegexpStemmer"
   ]
  },
  {
   "cell_type": "code",
   "execution_count": 26,
   "id": "32be56a2-c2b2-47b5-b7bf-8d5adf31877e",
   "metadata": {},
   "outputs": [],
   "source": [
    "regex=RegexpStemmer('ing$|s$|e$|able$', min=4)"
   ]
  },
  {
   "cell_type": "code",
   "execution_count": 31,
   "id": "9b8f2215-8f82-4084-831a-b1961d01bbf9",
   "metadata": {},
   "outputs": [
    {
     "data": {
      "text/plain": [
       "<RegexpStemmer: 'ing$|s$|e$|able$'>"
      ]
     },
     "execution_count": 31,
     "metadata": {},
     "output_type": "execute_result"
    }
   ],
   "source": [
    "regex #$ means their end if i remove $ it removes the things from their first "
   ]
  },
  {
   "cell_type": "code",
   "execution_count": 32,
   "id": "c3528480-1771-426d-8cda-a8076dd9cb2c",
   "metadata": {},
   "outputs": [
    {
     "name": "stdout",
     "output_type": "stream",
     "text": [
      "running >>>>>>>>> runn\n",
      "happily >>>>>>>>> happily\n",
      "studies >>>>>>>>> studie\n",
      "bettering >>>>>>>>> better\n",
      "flying >>>>>>>>> fly\n",
      "caring >>>>>>>>> car\n",
      "easily >>>>>>>>> easily\n",
      "wolves >>>>>>>>> wolve\n",
      "children >>>>>>>>> children\n",
      "jumping >>>>>>>>> jump\n",
      "playing >>>>>>>>> play\n",
      "driving >>>>>>>>> driv\n",
      "watching >>>>>>>>> watch\n",
      "singing >>>>>>>>> sing\n",
      "writing >>>>>>>>> writ\n",
      "cities >>>>>>>>> citie\n",
      "babies >>>>>>>>> babie\n",
      "leaves >>>>>>>>> leave\n",
      "knives >>>>>>>>> knive\n",
      "geese >>>>>>>>> gees\n",
      "brighter >>>>>>>>> brighter\n"
     ]
    }
   ],
   "source": [
    "for word in words:  \n",
    "    print(word + \" >>>>>>>>> \" + regex.stem(word))"
   ]
  },
  {
   "cell_type": "code",
   "execution_count": null,
   "id": "dc2c684f-e71c-4172-8cc7-01fbfe28554f",
   "metadata": {},
   "outputs": [],
   "source": []
  },
  {
   "cell_type": "code",
   "execution_count": 33,
   "id": "38a88d55-5ea7-46c1-80f7-a8231c781236",
   "metadata": {},
   "outputs": [],
   "source": [
    "from nltk import  SnowballStemmer"
   ]
  },
  {
   "cell_type": "code",
   "execution_count": 37,
   "id": "7583f869-da72-4ff2-99af-e821d4b81435",
   "metadata": {},
   "outputs": [],
   "source": [
    "snow=SnowballStemmer(\"english\", ignore_stopwords=False)"
   ]
  },
  {
   "cell_type": "code",
   "execution_count": 38,
   "id": "2b5c1cee-f46b-469b-8e5c-340844062b76",
   "metadata": {},
   "outputs": [
    {
     "name": "stdout",
     "output_type": "stream",
     "text": [
      "running >>>>>>>>> run\n",
      "happily >>>>>>>>> happili\n",
      "studies >>>>>>>>> studi\n",
      "bettering >>>>>>>>> better\n",
      "flying >>>>>>>>> fli\n",
      "caring >>>>>>>>> care\n",
      "easily >>>>>>>>> easili\n",
      "wolves >>>>>>>>> wolv\n",
      "children >>>>>>>>> children\n",
      "jumping >>>>>>>>> jump\n",
      "playing >>>>>>>>> play\n",
      "driving >>>>>>>>> drive\n",
      "watching >>>>>>>>> watch\n",
      "singing >>>>>>>>> sing\n",
      "writing >>>>>>>>> write\n",
      "cities >>>>>>>>> citi\n",
      "babies >>>>>>>>> babi\n",
      "leaves >>>>>>>>> leav\n",
      "knives >>>>>>>>> knive\n",
      "geese >>>>>>>>> gees\n",
      "brighter >>>>>>>>> brighter\n"
     ]
    }
   ],
   "source": [
    "for word in words:  \n",
    "    print(word + \" >>>>>>>>> \" + snow.stem(word))"
   ]
  },
  {
   "cell_type": "code",
   "execution_count": null,
   "id": "787b87a7-6d48-4234-90a8-e8274998d732",
   "metadata": {},
   "outputs": [],
   "source": []
  }
 ],
 "metadata": {
  "kernelspec": {
   "display_name": "Python 3 (ipykernel)",
   "language": "python",
   "name": "python3"
  },
  "language_info": {
   "codemirror_mode": {
    "name": "ipython",
    "version": 3
   },
   "file_extension": ".py",
   "mimetype": "text/x-python",
   "name": "python",
   "nbconvert_exporter": "python",
   "pygments_lexer": "ipython3",
   "version": "3.12.4"
  }
 },
 "nbformat": 4,
 "nbformat_minor": 5
}
